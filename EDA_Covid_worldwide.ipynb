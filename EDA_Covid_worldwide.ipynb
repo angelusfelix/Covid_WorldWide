{
 "cells": [
  {
   "cell_type": "markdown",
   "id": "ad8a34dd-7e89-42dc-9200-4c257cbc4983",
   "metadata": {},
   "source": [
    "https://www.kaggle.com/datasets/themrityunjaypathak/covid-cases-and-deaths-worldwide?resource=download"
   ]
  },
  {
   "cell_type": "code",
   "execution_count": 1,
   "id": "4b32c6bc-9406-4189-95de-349f6c8c2e68",
   "metadata": {},
   "outputs": [],
   "source": [
    "import numpy as np\n",
    "import matplotlib.pyplot as plt\n",
    "import seaborn as sns\n",
    "import pandas as pd"
   ]
  },
  {
   "cell_type": "markdown",
   "id": "ab61943d-f048-48fe-b44c-56a51df84a59",
   "metadata": {},
   "source": [
    "# Call the Data"
   ]
  },
  {
   "cell_type": "code",
   "execution_count": 2,
   "id": "29454300-bcbe-43fc-b22d-18adf4a7bc12",
   "metadata": {},
   "outputs": [
    {
     "data": {
      "text/html": [
       "<div>\n",
       "<style scoped>\n",
       "    .dataframe tbody tr th:only-of-type {\n",
       "        vertical-align: middle;\n",
       "    }\n",
       "\n",
       "    .dataframe tbody tr th {\n",
       "        vertical-align: top;\n",
       "    }\n",
       "\n",
       "    .dataframe thead th {\n",
       "        text-align: right;\n",
       "    }\n",
       "</style>\n",
       "<table border=\"1\" class=\"dataframe\">\n",
       "  <thead>\n",
       "    <tr style=\"text-align: right;\">\n",
       "      <th></th>\n",
       "      <th>Serial Number</th>\n",
       "      <th>Country</th>\n",
       "      <th>Total Cases</th>\n",
       "      <th>Total Deaths</th>\n",
       "      <th>Total Recovered</th>\n",
       "      <th>Active Cases</th>\n",
       "      <th>Total Test</th>\n",
       "      <th>Population</th>\n",
       "    </tr>\n",
       "  </thead>\n",
       "  <tbody>\n",
       "    <tr>\n",
       "      <th>226</th>\n",
       "      <td>227</td>\n",
       "      <td>Diamond Princess</td>\n",
       "      <td>712</td>\n",
       "      <td>13.0</td>\n",
       "      <td>699.0</td>\n",
       "      <td>0.0</td>\n",
       "      <td>NaN</td>\n",
       "      <td>NaN</td>\n",
       "    </tr>\n",
       "    <tr>\n",
       "      <th>227</th>\n",
       "      <td>228</td>\n",
       "      <td>Vatican City</td>\n",
       "      <td>29</td>\n",
       "      <td>NaN</td>\n",
       "      <td>29.0</td>\n",
       "      <td>0.0</td>\n",
       "      <td>NaN</td>\n",
       "      <td>799.0</td>\n",
       "    </tr>\n",
       "    <tr>\n",
       "      <th>228</th>\n",
       "      <td>229</td>\n",
       "      <td>Western Sahara</td>\n",
       "      <td>10</td>\n",
       "      <td>1.0</td>\n",
       "      <td>9.0</td>\n",
       "      <td>0.0</td>\n",
       "      <td>NaN</td>\n",
       "      <td>626161.0</td>\n",
       "    </tr>\n",
       "    <tr>\n",
       "      <th>229</th>\n",
       "      <td>230</td>\n",
       "      <td>MS Zaandam</td>\n",
       "      <td>9</td>\n",
       "      <td>2.0</td>\n",
       "      <td>7.0</td>\n",
       "      <td>0.0</td>\n",
       "      <td>NaN</td>\n",
       "      <td>NaN</td>\n",
       "    </tr>\n",
       "    <tr>\n",
       "      <th>230</th>\n",
       "      <td>231</td>\n",
       "      <td>Tokelau</td>\n",
       "      <td>5</td>\n",
       "      <td>NaN</td>\n",
       "      <td>NaN</td>\n",
       "      <td>5.0</td>\n",
       "      <td>NaN</td>\n",
       "      <td>1378.0</td>\n",
       "    </tr>\n",
       "  </tbody>\n",
       "</table>\n",
       "</div>"
      ],
      "text/plain": [
       "     Serial Number           Country  Total Cases  Total Deaths  \\\n",
       "226            227  Diamond Princess          712          13.0   \n",
       "227            228      Vatican City           29           NaN   \n",
       "228            229    Western Sahara           10           1.0   \n",
       "229            230        MS Zaandam            9           2.0   \n",
       "230            231           Tokelau            5           NaN   \n",
       "\n",
       "     Total Recovered  Active Cases  Total Test  Population  \n",
       "226            699.0           0.0         NaN         NaN  \n",
       "227             29.0           0.0         NaN       799.0  \n",
       "228              9.0           0.0         NaN    626161.0  \n",
       "229              7.0           0.0         NaN         NaN  \n",
       "230              NaN           5.0         NaN      1378.0  "
      ]
     },
     "execution_count": 2,
     "metadata": {},
     "output_type": "execute_result"
    }
   ],
   "source": [
    "dataset=pd.read_csv(r'covid_worldwide.csv',thousands=',') #thousands digunakan untuk mengubah ribuan menjadi titik\n",
    "dataset.tail()"
   ]
  },
  {
   "cell_type": "code",
   "execution_count": 3,
   "id": "63042377-fb4c-4046-ad70-e18ea49fe8fa",
   "metadata": {},
   "outputs": [
    {
     "name": "stdout",
     "output_type": "stream",
     "text": [
      "<class 'pandas.core.frame.DataFrame'>\n",
      "RangeIndex: 231 entries, 0 to 230\n",
      "Data columns (total 8 columns):\n",
      " #   Column           Non-Null Count  Dtype  \n",
      "---  ------           --------------  -----  \n",
      " 0   Serial Number    231 non-null    int64  \n",
      " 1   Country          231 non-null    object \n",
      " 2   Total Cases      231 non-null    int64  \n",
      " 3   Total Deaths     225 non-null    float64\n",
      " 4   Total Recovered  210 non-null    float64\n",
      " 5   Active Cases     212 non-null    float64\n",
      " 6   Total Test       213 non-null    float64\n",
      " 7   Population       228 non-null    float64\n",
      "dtypes: float64(5), int64(2), object(1)\n",
      "memory usage: 14.6+ KB\n"
     ]
    }
   ],
   "source": [
    "dataset.info()"
   ]
  },
  {
   "cell_type": "markdown",
   "id": "b1bdfce9-eb8f-4f52-9c1f-61860df7db8b",
   "metadata": {},
   "source": [
    "# Change Data Type"
   ]
  },
  {
   "cell_type": "code",
   "execution_count": 4,
   "id": "3d5c994e-4b5b-4ee8-917f-0e67dea6f135",
   "metadata": {},
   "outputs": [
    {
     "data": {
      "text/plain": [
       "Index(['Serial Number', 'Country', 'Total Cases', 'Total Deaths',\n",
       "       'Total Recovered', 'Active Cases', 'Total Test', 'Population'],\n",
       "      dtype='object')"
      ]
     },
     "execution_count": 4,
     "metadata": {},
     "output_type": "execute_result"
    }
   ],
   "source": [
    "dataset.columns"
   ]
  },
  {
   "cell_type": "code",
   "execution_count": 5,
   "id": "d49688a8-b082-48d4-99ec-88ebd1978d62",
   "metadata": {},
   "outputs": [
    {
     "name": "stdout",
     "output_type": "stream",
     "text": [
      "<class 'pandas.core.frame.DataFrame'>\n",
      "RangeIndex: 231 entries, 0 to 230\n",
      "Data columns (total 8 columns):\n",
      " #   Column           Non-Null Count  Dtype  \n",
      "---  ------           --------------  -----  \n",
      " 0   Serial Number    231 non-null    int64  \n",
      " 1   Country          231 non-null    object \n",
      " 2   Total Cases      231 non-null    float64\n",
      " 3   Total Deaths     225 non-null    float64\n",
      " 4   Total Recovered  210 non-null    float64\n",
      " 5   Active Cases     212 non-null    float64\n",
      " 6   Total Test       213 non-null    float64\n",
      " 7   Population       228 non-null    float64\n",
      "dtypes: float64(6), int64(1), object(1)\n",
      "memory usage: 14.6+ KB\n"
     ]
    }
   ],
   "source": [
    "numeric=['Total Cases', 'Total Deaths',\n",
    "       'Total Recovered', 'Active Cases', 'Total Test', 'Population']\n",
    "for i in numeric:\n",
    "    dataset[i] = dataset[i].astype('float64')\n",
    "dataset.info()"
   ]
  },
  {
   "cell_type": "markdown",
   "id": "9074ad44-3760-4935-b4dc-500dbd634b94",
   "metadata": {},
   "source": [
    "# Statistic"
   ]
  },
  {
   "cell_type": "code",
   "execution_count": 6,
   "id": "9c289639-d09a-4492-bc73-9d7b2d93828b",
   "metadata": {},
   "outputs": [
    {
     "data": {
      "text/html": [
       "<div>\n",
       "<style scoped>\n",
       "    .dataframe tbody tr th:only-of-type {\n",
       "        vertical-align: middle;\n",
       "    }\n",
       "\n",
       "    .dataframe tbody tr th {\n",
       "        vertical-align: top;\n",
       "    }\n",
       "\n",
       "    .dataframe thead th {\n",
       "        text-align: right;\n",
       "    }\n",
       "</style>\n",
       "<table border=\"1\" class=\"dataframe\">\n",
       "  <thead>\n",
       "    <tr style=\"text-align: right;\">\n",
       "      <th></th>\n",
       "      <th>Serial Number</th>\n",
       "      <th>Total Cases</th>\n",
       "      <th>Total Deaths</th>\n",
       "      <th>Total Recovered</th>\n",
       "      <th>Active Cases</th>\n",
       "      <th>Total Test</th>\n",
       "      <th>Population</th>\n",
       "    </tr>\n",
       "  </thead>\n",
       "  <tbody>\n",
       "    <tr>\n",
       "      <th>count</th>\n",
       "      <td>231.000000</td>\n",
       "      <td>2.310000e+02</td>\n",
       "      <td>2.250000e+02</td>\n",
       "      <td>2.100000e+02</td>\n",
       "      <td>2.120000e+02</td>\n",
       "      <td>2.130000e+02</td>\n",
       "      <td>2.280000e+02</td>\n",
       "    </tr>\n",
       "    <tr>\n",
       "      <th>mean</th>\n",
       "      <td>116.000000</td>\n",
       "      <td>2.923460e+06</td>\n",
       "      <td>3.005778e+04</td>\n",
       "      <td>2.993905e+06</td>\n",
       "      <td>9.099885e+04</td>\n",
       "      <td>3.249316e+07</td>\n",
       "      <td>2.849326e+07</td>\n",
       "    </tr>\n",
       "    <tr>\n",
       "      <th>std</th>\n",
       "      <td>66.828138</td>\n",
       "      <td>9.479286e+06</td>\n",
       "      <td>1.053806e+05</td>\n",
       "      <td>9.520209e+06</td>\n",
       "      <td>7.663888e+05</td>\n",
       "      <td>1.177370e+08</td>\n",
       "      <td>1.022803e+08</td>\n",
       "    </tr>\n",
       "    <tr>\n",
       "      <th>min</th>\n",
       "      <td>1.000000</td>\n",
       "      <td>5.000000e+00</td>\n",
       "      <td>1.000000e+00</td>\n",
       "      <td>2.000000e+00</td>\n",
       "      <td>0.000000e+00</td>\n",
       "      <td>7.850000e+03</td>\n",
       "      <td>7.990000e+02</td>\n",
       "    </tr>\n",
       "    <tr>\n",
       "      <th>25%</th>\n",
       "      <td>58.500000</td>\n",
       "      <td>2.400100e+04</td>\n",
       "      <td>2.230000e+02</td>\n",
       "      <td>2.197250e+04</td>\n",
       "      <td>5.250000e+01</td>\n",
       "      <td>3.478150e+05</td>\n",
       "      <td>4.450815e+05</td>\n",
       "    </tr>\n",
       "    <tr>\n",
       "      <th>50%</th>\n",
       "      <td>116.000000</td>\n",
       "      <td>2.065920e+05</td>\n",
       "      <td>2.179000e+03</td>\n",
       "      <td>2.351455e+05</td>\n",
       "      <td>1.115000e+03</td>\n",
       "      <td>2.216193e+06</td>\n",
       "      <td>5.676382e+06</td>\n",
       "    </tr>\n",
       "    <tr>\n",
       "      <th>75%</th>\n",
       "      <td>173.500000</td>\n",
       "      <td>1.296146e+06</td>\n",
       "      <td>1.445200e+04</td>\n",
       "      <td>1.465768e+06</td>\n",
       "      <td>1.022875e+04</td>\n",
       "      <td>1.298426e+07</td>\n",
       "      <td>2.170759e+07</td>\n",
       "    </tr>\n",
       "    <tr>\n",
       "      <th>max</th>\n",
       "      <td>231.000000</td>\n",
       "      <td>1.041969e+08</td>\n",
       "      <td>1.132935e+06</td>\n",
       "      <td>1.013228e+08</td>\n",
       "      <td>1.095262e+07</td>\n",
       "      <td>1.159833e+09</td>\n",
       "      <td>1.406632e+09</td>\n",
       "    </tr>\n",
       "  </tbody>\n",
       "</table>\n",
       "</div>"
      ],
      "text/plain": [
       "       Serial Number   Total Cases  Total Deaths  Total Recovered  \\\n",
       "count     231.000000  2.310000e+02  2.250000e+02     2.100000e+02   \n",
       "mean      116.000000  2.923460e+06  3.005778e+04     2.993905e+06   \n",
       "std        66.828138  9.479286e+06  1.053806e+05     9.520209e+06   \n",
       "min         1.000000  5.000000e+00  1.000000e+00     2.000000e+00   \n",
       "25%        58.500000  2.400100e+04  2.230000e+02     2.197250e+04   \n",
       "50%       116.000000  2.065920e+05  2.179000e+03     2.351455e+05   \n",
       "75%       173.500000  1.296146e+06  1.445200e+04     1.465768e+06   \n",
       "max       231.000000  1.041969e+08  1.132935e+06     1.013228e+08   \n",
       "\n",
       "       Active Cases    Total Test    Population  \n",
       "count  2.120000e+02  2.130000e+02  2.280000e+02  \n",
       "mean   9.099885e+04  3.249316e+07  2.849326e+07  \n",
       "std    7.663888e+05  1.177370e+08  1.022803e+08  \n",
       "min    0.000000e+00  7.850000e+03  7.990000e+02  \n",
       "25%    5.250000e+01  3.478150e+05  4.450815e+05  \n",
       "50%    1.115000e+03  2.216193e+06  5.676382e+06  \n",
       "75%    1.022875e+04  1.298426e+07  2.170759e+07  \n",
       "max    1.095262e+07  1.159833e+09  1.406632e+09  "
      ]
     },
     "execution_count": 6,
     "metadata": {},
     "output_type": "execute_result"
    }
   ],
   "source": [
    "dataset.describe()"
   ]
  },
  {
   "cell_type": "markdown",
   "id": "ba28d4c8-4fbd-4c3c-beae-1f46fa213dce",
   "metadata": {},
   "source": [
    "# Handling Missing Value"
   ]
  },
  {
   "cell_type": "code",
   "execution_count": 7,
   "id": "8ebba211-fc4c-4796-b47f-dea13d1b37cf",
   "metadata": {},
   "outputs": [
    {
     "data": {
      "text/html": [
       "<div>\n",
       "<style scoped>\n",
       "    .dataframe tbody tr th:only-of-type {\n",
       "        vertical-align: middle;\n",
       "    }\n",
       "\n",
       "    .dataframe tbody tr th {\n",
       "        vertical-align: top;\n",
       "    }\n",
       "\n",
       "    .dataframe thead th {\n",
       "        text-align: right;\n",
       "    }\n",
       "</style>\n",
       "<table border=\"1\" class=\"dataframe\">\n",
       "  <thead>\n",
       "    <tr style=\"text-align: right;\">\n",
       "      <th></th>\n",
       "      <th>Serial Number</th>\n",
       "      <th>Country</th>\n",
       "      <th>Total Cases</th>\n",
       "      <th>Total Deaths</th>\n",
       "      <th>Total Recovered</th>\n",
       "      <th>Active Cases</th>\n",
       "      <th>Total Test</th>\n",
       "      <th>Population</th>\n",
       "    </tr>\n",
       "  </thead>\n",
       "  <tbody>\n",
       "    <tr>\n",
       "      <th>0</th>\n",
       "      <td>1</td>\n",
       "      <td>USA</td>\n",
       "      <td>104196861.0</td>\n",
       "      <td>1132935.0</td>\n",
       "      <td>101322779.0</td>\n",
       "      <td>1741147.0</td>\n",
       "      <td>1.159833e+09</td>\n",
       "      <td>3.348053e+08</td>\n",
       "    </tr>\n",
       "    <tr>\n",
       "      <th>1</th>\n",
       "      <td>2</td>\n",
       "      <td>India</td>\n",
       "      <td>44682784.0</td>\n",
       "      <td>530740.0</td>\n",
       "      <td>44150289.0</td>\n",
       "      <td>1755.0</td>\n",
       "      <td>9.152658e+08</td>\n",
       "      <td>1.406632e+09</td>\n",
       "    </tr>\n",
       "    <tr>\n",
       "      <th>2</th>\n",
       "      <td>3</td>\n",
       "      <td>France</td>\n",
       "      <td>39524311.0</td>\n",
       "      <td>164233.0</td>\n",
       "      <td>39264546.0</td>\n",
       "      <td>95532.0</td>\n",
       "      <td>2.714902e+08</td>\n",
       "      <td>6.558452e+07</td>\n",
       "    </tr>\n",
       "    <tr>\n",
       "      <th>3</th>\n",
       "      <td>4</td>\n",
       "      <td>Germany</td>\n",
       "      <td>37779833.0</td>\n",
       "      <td>165711.0</td>\n",
       "      <td>37398100.0</td>\n",
       "      <td>216022.0</td>\n",
       "      <td>1.223324e+08</td>\n",
       "      <td>8.388360e+07</td>\n",
       "    </tr>\n",
       "    <tr>\n",
       "      <th>4</th>\n",
       "      <td>5</td>\n",
       "      <td>Brazil</td>\n",
       "      <td>36824580.0</td>\n",
       "      <td>697074.0</td>\n",
       "      <td>35919372.0</td>\n",
       "      <td>208134.0</td>\n",
       "      <td>6.377617e+07</td>\n",
       "      <td>2.153536e+08</td>\n",
       "    </tr>\n",
       "    <tr>\n",
       "      <th>...</th>\n",
       "      <td>...</td>\n",
       "      <td>...</td>\n",
       "      <td>...</td>\n",
       "      <td>...</td>\n",
       "      <td>...</td>\n",
       "      <td>...</td>\n",
       "      <td>...</td>\n",
       "      <td>...</td>\n",
       "    </tr>\n",
       "    <tr>\n",
       "      <th>226</th>\n",
       "      <td>227</td>\n",
       "      <td>Diamond Princess</td>\n",
       "      <td>712.0</td>\n",
       "      <td>13.0</td>\n",
       "      <td>699.0</td>\n",
       "      <td>0.0</td>\n",
       "      <td>NaN</td>\n",
       "      <td>NaN</td>\n",
       "    </tr>\n",
       "    <tr>\n",
       "      <th>227</th>\n",
       "      <td>228</td>\n",
       "      <td>Vatican City</td>\n",
       "      <td>29.0</td>\n",
       "      <td>NaN</td>\n",
       "      <td>29.0</td>\n",
       "      <td>0.0</td>\n",
       "      <td>NaN</td>\n",
       "      <td>7.990000e+02</td>\n",
       "    </tr>\n",
       "    <tr>\n",
       "      <th>228</th>\n",
       "      <td>229</td>\n",
       "      <td>Western Sahara</td>\n",
       "      <td>10.0</td>\n",
       "      <td>1.0</td>\n",
       "      <td>9.0</td>\n",
       "      <td>0.0</td>\n",
       "      <td>NaN</td>\n",
       "      <td>6.261610e+05</td>\n",
       "    </tr>\n",
       "    <tr>\n",
       "      <th>229</th>\n",
       "      <td>230</td>\n",
       "      <td>MS Zaandam</td>\n",
       "      <td>9.0</td>\n",
       "      <td>2.0</td>\n",
       "      <td>7.0</td>\n",
       "      <td>0.0</td>\n",
       "      <td>NaN</td>\n",
       "      <td>NaN</td>\n",
       "    </tr>\n",
       "    <tr>\n",
       "      <th>230</th>\n",
       "      <td>231</td>\n",
       "      <td>Tokelau</td>\n",
       "      <td>5.0</td>\n",
       "      <td>NaN</td>\n",
       "      <td>NaN</td>\n",
       "      <td>5.0</td>\n",
       "      <td>NaN</td>\n",
       "      <td>1.378000e+03</td>\n",
       "    </tr>\n",
       "  </tbody>\n",
       "</table>\n",
       "<p>231 rows × 8 columns</p>\n",
       "</div>"
      ],
      "text/plain": [
       "     Serial Number           Country  Total Cases  Total Deaths  \\\n",
       "0                1               USA  104196861.0     1132935.0   \n",
       "1                2             India   44682784.0      530740.0   \n",
       "2                3            France   39524311.0      164233.0   \n",
       "3                4           Germany   37779833.0      165711.0   \n",
       "4                5            Brazil   36824580.0      697074.0   \n",
       "..             ...               ...          ...           ...   \n",
       "226            227  Diamond Princess        712.0          13.0   \n",
       "227            228      Vatican City         29.0           NaN   \n",
       "228            229    Western Sahara         10.0           1.0   \n",
       "229            230        MS Zaandam          9.0           2.0   \n",
       "230            231           Tokelau          5.0           NaN   \n",
       "\n",
       "     Total Recovered  Active Cases    Total Test    Population  \n",
       "0        101322779.0     1741147.0  1.159833e+09  3.348053e+08  \n",
       "1         44150289.0        1755.0  9.152658e+08  1.406632e+09  \n",
       "2         39264546.0       95532.0  2.714902e+08  6.558452e+07  \n",
       "3         37398100.0      216022.0  1.223324e+08  8.388360e+07  \n",
       "4         35919372.0      208134.0  6.377617e+07  2.153536e+08  \n",
       "..               ...           ...           ...           ...  \n",
       "226            699.0           0.0           NaN           NaN  \n",
       "227             29.0           0.0           NaN  7.990000e+02  \n",
       "228              9.0           0.0           NaN  6.261610e+05  \n",
       "229              7.0           0.0           NaN           NaN  \n",
       "230              NaN           5.0           NaN  1.378000e+03  \n",
       "\n",
       "[231 rows x 8 columns]"
      ]
     },
     "execution_count": 7,
     "metadata": {},
     "output_type": "execute_result"
    }
   ],
   "source": [
    "df=dataset.copy()\n",
    "df"
   ]
  },
  {
   "cell_type": "code",
   "execution_count": 8,
   "id": "bad2b198-7ad7-40ed-b313-95cf1933e51b",
   "metadata": {},
   "outputs": [
    {
     "data": {
      "text/plain": [
       "Serial Number       0\n",
       "Country             0\n",
       "Total Cases         0\n",
       "Total Deaths        6\n",
       "Total Recovered    21\n",
       "Active Cases       19\n",
       "Total Test         18\n",
       "Population          3\n",
       "dtype: int64"
      ]
     },
     "execution_count": 8,
     "metadata": {},
     "output_type": "execute_result"
    }
   ],
   "source": [
    "df.isnull().sum()"
   ]
  },
  {
   "cell_type": "code",
   "execution_count": 9,
   "id": "c9303d51-8e63-463f-afb6-bb2352b7ff11",
   "metadata": {},
   "outputs": [
    {
     "data": {
      "text/html": [
       "<div>\n",
       "<style scoped>\n",
       "    .dataframe tbody tr th:only-of-type {\n",
       "        vertical-align: middle;\n",
       "    }\n",
       "\n",
       "    .dataframe tbody tr th {\n",
       "        vertical-align: top;\n",
       "    }\n",
       "\n",
       "    .dataframe thead th {\n",
       "        text-align: right;\n",
       "    }\n",
       "</style>\n",
       "<table border=\"1\" class=\"dataframe\">\n",
       "  <thead>\n",
       "    <tr style=\"text-align: right;\">\n",
       "      <th></th>\n",
       "      <th>Serial Number</th>\n",
       "      <th>Country</th>\n",
       "      <th>Total Cases</th>\n",
       "      <th>Total Deaths</th>\n",
       "      <th>Total Recovered</th>\n",
       "      <th>Active Cases</th>\n",
       "      <th>Total Test</th>\n",
       "      <th>Population</th>\n",
       "    </tr>\n",
       "  </thead>\n",
       "  <tbody>\n",
       "    <tr>\n",
       "      <th>221</th>\n",
       "      <td>222</td>\n",
       "      <td>Tuvalu</td>\n",
       "      <td>2805.0</td>\n",
       "      <td>NaN</td>\n",
       "      <td>NaN</td>\n",
       "      <td>2805.0</td>\n",
       "      <td>NaN</td>\n",
       "      <td>12066.0</td>\n",
       "    </tr>\n",
       "    <tr>\n",
       "      <th>222</th>\n",
       "      <td>223</td>\n",
       "      <td>Saint Helena</td>\n",
       "      <td>2166.0</td>\n",
       "      <td>NaN</td>\n",
       "      <td>2.0</td>\n",
       "      <td>2164.0</td>\n",
       "      <td>NaN</td>\n",
       "      <td>6115.0</td>\n",
       "    </tr>\n",
       "    <tr>\n",
       "      <th>223</th>\n",
       "      <td>224</td>\n",
       "      <td>Falkland Islands</td>\n",
       "      <td>1930.0</td>\n",
       "      <td>NaN</td>\n",
       "      <td>1930.0</td>\n",
       "      <td>0.0</td>\n",
       "      <td>8632.0</td>\n",
       "      <td>3539.0</td>\n",
       "    </tr>\n",
       "    <tr>\n",
       "      <th>225</th>\n",
       "      <td>226</td>\n",
       "      <td>Niue</td>\n",
       "      <td>747.0</td>\n",
       "      <td>NaN</td>\n",
       "      <td>746.0</td>\n",
       "      <td>1.0</td>\n",
       "      <td>NaN</td>\n",
       "      <td>1622.0</td>\n",
       "    </tr>\n",
       "    <tr>\n",
       "      <th>227</th>\n",
       "      <td>228</td>\n",
       "      <td>Vatican City</td>\n",
       "      <td>29.0</td>\n",
       "      <td>NaN</td>\n",
       "      <td>29.0</td>\n",
       "      <td>0.0</td>\n",
       "      <td>NaN</td>\n",
       "      <td>799.0</td>\n",
       "    </tr>\n",
       "    <tr>\n",
       "      <th>230</th>\n",
       "      <td>231</td>\n",
       "      <td>Tokelau</td>\n",
       "      <td>5.0</td>\n",
       "      <td>NaN</td>\n",
       "      <td>NaN</td>\n",
       "      <td>5.0</td>\n",
       "      <td>NaN</td>\n",
       "      <td>1378.0</td>\n",
       "    </tr>\n",
       "  </tbody>\n",
       "</table>\n",
       "</div>"
      ],
      "text/plain": [
       "     Serial Number           Country  Total Cases  Total Deaths  \\\n",
       "221            222            Tuvalu       2805.0           NaN   \n",
       "222            223      Saint Helena       2166.0           NaN   \n",
       "223            224  Falkland Islands       1930.0           NaN   \n",
       "225            226              Niue        747.0           NaN   \n",
       "227            228      Vatican City         29.0           NaN   \n",
       "230            231           Tokelau          5.0           NaN   \n",
       "\n",
       "     Total Recovered  Active Cases  Total Test  Population  \n",
       "221              NaN        2805.0         NaN     12066.0  \n",
       "222              2.0        2164.0         NaN      6115.0  \n",
       "223           1930.0           0.0      8632.0      3539.0  \n",
       "225            746.0           1.0         NaN      1622.0  \n",
       "227             29.0           0.0         NaN       799.0  \n",
       "230              NaN           5.0         NaN      1378.0  "
      ]
     },
     "execution_count": 9,
     "metadata": {},
     "output_type": "execute_result"
    }
   ],
   "source": [
    "df[df['Total Deaths'].isnull()]"
   ]
  },
  {
   "cell_type": "markdown",
   "id": "18bd6971-9fa2-4a8a-ae57-6da00a1c8cb6",
   "metadata": {},
   "source": [
    "* Berdasarkan berita dari link https://www.cnbcindonesia.com/news/20210118165137-4-216931/tuvalu-hingga-turkmenistan-ini-deretan-negara-bebas-covid-19 disebutkan bahwa Tuvalu adalah negara bebas covid. Jadi Total Deaths di Tuvalu akhibat Covid adalah 0 kejadian.\n",
    "* Berdasarkan berita dari link https://covid19.place/sh/km-kh/?lang=id-id disebutkan bahwa Saint Helena adalah negara bebas covid.Jadi Total Deaths di Saint Helena akhibat Covid adalah 0 kejadian.\n",
    "* Berdasarkan berita dari link https://www.worldometers.info/coronavirus/country/falkland-islands-malvinas/ disebutkan bahwa Total Death di Falkland Island adalah 0 kejadian. Data ini diupdate di tanggal 23 Februari 2023.\n",
    "* Berdasarkan berita dari link https://www.cnbcindonesia.com/news/20211226190350-4-302138/belum-ada-kasus-covid-19-di-6-negara-ini-yang-bener-nih disebutkan bahwa Niue tidak memiliki warga mati karena covid.\n",
    "* Berdasarkan berita dari link https://covid19.place/va/km-kh/?lang=id-ID disebutkan bahwa Total Depth di Vatikan akhibat Covid adalah 0 kejadian.\n",
    "* Tokelau 0 kematian akhibat covid.(Tidak ditemukan berita di Tokelau)\n"
   ]
  },
  {
   "cell_type": "code",
   "execution_count": 10,
   "id": "deba2bab-15f4-4b02-baf1-6dd0a5f242ce",
   "metadata": {},
   "outputs": [
    {
     "data": {
      "text/html": [
       "<div>\n",
       "<style scoped>\n",
       "    .dataframe tbody tr th:only-of-type {\n",
       "        vertical-align: middle;\n",
       "    }\n",
       "\n",
       "    .dataframe tbody tr th {\n",
       "        vertical-align: top;\n",
       "    }\n",
       "\n",
       "    .dataframe thead th {\n",
       "        text-align: right;\n",
       "    }\n",
       "</style>\n",
       "<table border=\"1\" class=\"dataframe\">\n",
       "  <thead>\n",
       "    <tr style=\"text-align: right;\">\n",
       "      <th></th>\n",
       "      <th>Serial Number</th>\n",
       "      <th>Country</th>\n",
       "      <th>Total Cases</th>\n",
       "      <th>Total Deaths</th>\n",
       "      <th>Total Recovered</th>\n",
       "      <th>Active Cases</th>\n",
       "      <th>Total Test</th>\n",
       "      <th>Population</th>\n",
       "    </tr>\n",
       "  </thead>\n",
       "  <tbody>\n",
       "    <tr>\n",
       "      <th>10</th>\n",
       "      <td>11</td>\n",
       "      <td>Turkey</td>\n",
       "      <td>17042722.0</td>\n",
       "      <td>101492.0</td>\n",
       "      <td>NaN</td>\n",
       "      <td>NaN</td>\n",
       "      <td>162743369.0</td>\n",
       "      <td>85561976.0</td>\n",
       "    </tr>\n",
       "    <tr>\n",
       "      <th>65</th>\n",
       "      <td>66</td>\n",
       "      <td>Tunisia</td>\n",
       "      <td>1150356.0</td>\n",
       "      <td>29308.0</td>\n",
       "      <td>NaN</td>\n",
       "      <td>NaN</td>\n",
       "      <td>4997373.0</td>\n",
       "      <td>12046656.0</td>\n",
       "    </tr>\n",
       "    <tr>\n",
       "      <th>77</th>\n",
       "      <td>78</td>\n",
       "      <td>Paraguay</td>\n",
       "      <td>806256.0</td>\n",
       "      <td>19820.0</td>\n",
       "      <td>NaN</td>\n",
       "      <td>NaN</td>\n",
       "      <td>2657506.0</td>\n",
       "      <td>7305843.0</td>\n",
       "    </tr>\n",
       "    <tr>\n",
       "      <th>94</th>\n",
       "      <td>95</td>\n",
       "      <td>Honduras</td>\n",
       "      <td>470757.0</td>\n",
       "      <td>11104.0</td>\n",
       "      <td>NaN</td>\n",
       "      <td>NaN</td>\n",
       "      <td>1619676.0</td>\n",
       "      <td>10221247.0</td>\n",
       "    </tr>\n",
       "    <tr>\n",
       "      <th>111</th>\n",
       "      <td>112</td>\n",
       "      <td>Martinique</td>\n",
       "      <td>229687.0</td>\n",
       "      <td>1097.0</td>\n",
       "      <td>NaN</td>\n",
       "      <td>NaN</td>\n",
       "      <td>828928.0</td>\n",
       "      <td>374087.0</td>\n",
       "    </tr>\n",
       "    <tr>\n",
       "      <th>112</th>\n",
       "      <td>113</td>\n",
       "      <td>Laos</td>\n",
       "      <td>217973.0</td>\n",
       "      <td>758.0</td>\n",
       "      <td>NaN</td>\n",
       "      <td>NaN</td>\n",
       "      <td>1233207.0</td>\n",
       "      <td>7481023.0</td>\n",
       "    </tr>\n",
       "    <tr>\n",
       "      <th>113</th>\n",
       "      <td>114</td>\n",
       "      <td>Iceland</td>\n",
       "      <td>208688.0</td>\n",
       "      <td>229.0</td>\n",
       "      <td>NaN</td>\n",
       "      <td>NaN</td>\n",
       "      <td>1996384.0</td>\n",
       "      <td>345393.0</td>\n",
       "    </tr>\n",
       "    <tr>\n",
       "      <th>117</th>\n",
       "      <td>118</td>\n",
       "      <td>Guadeloupe</td>\n",
       "      <td>201394.0</td>\n",
       "      <td>1007.0</td>\n",
       "      <td>NaN</td>\n",
       "      <td>NaN</td>\n",
       "      <td>938039.0</td>\n",
       "      <td>399794.0</td>\n",
       "    </tr>\n",
       "    <tr>\n",
       "      <th>136</th>\n",
       "      <td>137</td>\n",
       "      <td>Suriname</td>\n",
       "      <td>82020.0</td>\n",
       "      <td>1398.0</td>\n",
       "      <td>NaN</td>\n",
       "      <td>NaN</td>\n",
       "      <td>239603.0</td>\n",
       "      <td>596831.0</td>\n",
       "    </tr>\n",
       "    <tr>\n",
       "      <th>138</th>\n",
       "      <td>139</td>\n",
       "      <td>French Polynesia</td>\n",
       "      <td>77957.0</td>\n",
       "      <td>649.0</td>\n",
       "      <td>NaN</td>\n",
       "      <td>NaN</td>\n",
       "      <td>NaN</td>\n",
       "      <td>284164.0</td>\n",
       "    </tr>\n",
       "    <tr>\n",
       "      <th>156</th>\n",
       "      <td>157</td>\n",
       "      <td>Tanzania</td>\n",
       "      <td>42664.0</td>\n",
       "      <td>846.0</td>\n",
       "      <td>NaN</td>\n",
       "      <td>NaN</td>\n",
       "      <td>NaN</td>\n",
       "      <td>63298550.0</td>\n",
       "    </tr>\n",
       "    <tr>\n",
       "      <th>157</th>\n",
       "      <td>158</td>\n",
       "      <td>Mayotte</td>\n",
       "      <td>42002.0</td>\n",
       "      <td>188.0</td>\n",
       "      <td>NaN</td>\n",
       "      <td>NaN</td>\n",
       "      <td>176919.0</td>\n",
       "      <td>286259.0</td>\n",
       "    </tr>\n",
       "    <tr>\n",
       "      <th>161</th>\n",
       "      <td>162</td>\n",
       "      <td>Isle of Man</td>\n",
       "      <td>38008.0</td>\n",
       "      <td>116.0</td>\n",
       "      <td>NaN</td>\n",
       "      <td>NaN</td>\n",
       "      <td>150753.0</td>\n",
       "      <td>85732.0</td>\n",
       "    </tr>\n",
       "    <tr>\n",
       "      <th>164</th>\n",
       "      <td>165</td>\n",
       "      <td>Faeroe Islands</td>\n",
       "      <td>34658.0</td>\n",
       "      <td>28.0</td>\n",
       "      <td>NaN</td>\n",
       "      <td>NaN</td>\n",
       "      <td>778000.0</td>\n",
       "      <td>49233.0</td>\n",
       "    </tr>\n",
       "    <tr>\n",
       "      <th>172</th>\n",
       "      <td>173</td>\n",
       "      <td>Solomon Islands</td>\n",
       "      <td>24575.0</td>\n",
       "      <td>153.0</td>\n",
       "      <td>NaN</td>\n",
       "      <td>NaN</td>\n",
       "      <td>NaN</td>\n",
       "      <td>721159.0</td>\n",
       "    </tr>\n",
       "    <tr>\n",
       "      <th>175</th>\n",
       "      <td>176</td>\n",
       "      <td>Micronesia</td>\n",
       "      <td>22676.0</td>\n",
       "      <td>58.0</td>\n",
       "      <td>NaN</td>\n",
       "      <td>NaN</td>\n",
       "      <td>54967.0</td>\n",
       "      <td>117489.0</td>\n",
       "    </tr>\n",
       "    <tr>\n",
       "      <th>206</th>\n",
       "      <td>207</td>\n",
       "      <td>Sierra Leone</td>\n",
       "      <td>7760.0</td>\n",
       "      <td>126.0</td>\n",
       "      <td>NaN</td>\n",
       "      <td>NaN</td>\n",
       "      <td>259958.0</td>\n",
       "      <td>8306436.0</td>\n",
       "    </tr>\n",
       "    <tr>\n",
       "      <th>208</th>\n",
       "      <td>209</td>\n",
       "      <td>British Virgin Islands</td>\n",
       "      <td>7305.0</td>\n",
       "      <td>64.0</td>\n",
       "      <td>NaN</td>\n",
       "      <td>NaN</td>\n",
       "      <td>107339.0</td>\n",
       "      <td>30596.0</td>\n",
       "    </tr>\n",
       "    <tr>\n",
       "      <th>214</th>\n",
       "      <td>215</td>\n",
       "      <td>St. Barth</td>\n",
       "      <td>5420.0</td>\n",
       "      <td>6.0</td>\n",
       "      <td>NaN</td>\n",
       "      <td>NaN</td>\n",
       "      <td>78646.0</td>\n",
       "      <td>9945.0</td>\n",
       "    </tr>\n",
       "    <tr>\n",
       "      <th>221</th>\n",
       "      <td>222</td>\n",
       "      <td>Tuvalu</td>\n",
       "      <td>2805.0</td>\n",
       "      <td>NaN</td>\n",
       "      <td>NaN</td>\n",
       "      <td>2805.0</td>\n",
       "      <td>NaN</td>\n",
       "      <td>12066.0</td>\n",
       "    </tr>\n",
       "    <tr>\n",
       "      <th>230</th>\n",
       "      <td>231</td>\n",
       "      <td>Tokelau</td>\n",
       "      <td>5.0</td>\n",
       "      <td>NaN</td>\n",
       "      <td>NaN</td>\n",
       "      <td>5.0</td>\n",
       "      <td>NaN</td>\n",
       "      <td>1378.0</td>\n",
       "    </tr>\n",
       "  </tbody>\n",
       "</table>\n",
       "</div>"
      ],
      "text/plain": [
       "     Serial Number                 Country  Total Cases  Total Deaths  \\\n",
       "10              11                  Turkey   17042722.0      101492.0   \n",
       "65              66                 Tunisia    1150356.0       29308.0   \n",
       "77              78                Paraguay     806256.0       19820.0   \n",
       "94              95                Honduras     470757.0       11104.0   \n",
       "111            112              Martinique     229687.0        1097.0   \n",
       "112            113                    Laos     217973.0         758.0   \n",
       "113            114                 Iceland     208688.0         229.0   \n",
       "117            118              Guadeloupe     201394.0        1007.0   \n",
       "136            137                Suriname      82020.0        1398.0   \n",
       "138            139        French Polynesia      77957.0         649.0   \n",
       "156            157                Tanzania      42664.0         846.0   \n",
       "157            158                 Mayotte      42002.0         188.0   \n",
       "161            162             Isle of Man      38008.0         116.0   \n",
       "164            165          Faeroe Islands      34658.0          28.0   \n",
       "172            173         Solomon Islands      24575.0         153.0   \n",
       "175            176              Micronesia      22676.0          58.0   \n",
       "206            207            Sierra Leone       7760.0         126.0   \n",
       "208            209  British Virgin Islands       7305.0          64.0   \n",
       "214            215               St. Barth       5420.0           6.0   \n",
       "221            222                  Tuvalu       2805.0           NaN   \n",
       "230            231                 Tokelau          5.0           NaN   \n",
       "\n",
       "     Total Recovered  Active Cases   Total Test  Population  \n",
       "10               NaN           NaN  162743369.0  85561976.0  \n",
       "65               NaN           NaN    4997373.0  12046656.0  \n",
       "77               NaN           NaN    2657506.0   7305843.0  \n",
       "94               NaN           NaN    1619676.0  10221247.0  \n",
       "111              NaN           NaN     828928.0    374087.0  \n",
       "112              NaN           NaN    1233207.0   7481023.0  \n",
       "113              NaN           NaN    1996384.0    345393.0  \n",
       "117              NaN           NaN     938039.0    399794.0  \n",
       "136              NaN           NaN     239603.0    596831.0  \n",
       "138              NaN           NaN          NaN    284164.0  \n",
       "156              NaN           NaN          NaN  63298550.0  \n",
       "157              NaN           NaN     176919.0    286259.0  \n",
       "161              NaN           NaN     150753.0     85732.0  \n",
       "164              NaN           NaN     778000.0     49233.0  \n",
       "172              NaN           NaN          NaN    721159.0  \n",
       "175              NaN           NaN      54967.0    117489.0  \n",
       "206              NaN           NaN     259958.0   8306436.0  \n",
       "208              NaN           NaN     107339.0     30596.0  \n",
       "214              NaN           NaN      78646.0      9945.0  \n",
       "221              NaN        2805.0          NaN     12066.0  \n",
       "230              NaN           5.0          NaN      1378.0  "
      ]
     },
     "execution_count": 10,
     "metadata": {},
     "output_type": "execute_result"
    }
   ],
   "source": [
    "df[df['Total Recovered'].isnull()]"
   ]
  },
  {
   "cell_type": "markdown",
   "id": "883a7faa-0c6b-4024-bb6f-2a623c8c0c05",
   "metadata": {},
   "source": [
    "Berdasarkan link https://covid19.place/?country=PY seluruh kota yang disebutkan di atas total recovery adalah 0 kejadian"
   ]
  },
  {
   "cell_type": "code",
   "execution_count": 11,
   "id": "c19b8661-96e7-4905-a617-1d490e269021",
   "metadata": {},
   "outputs": [
    {
     "data": {
      "text/html": [
       "<div>\n",
       "<style scoped>\n",
       "    .dataframe tbody tr th:only-of-type {\n",
       "        vertical-align: middle;\n",
       "    }\n",
       "\n",
       "    .dataframe tbody tr th {\n",
       "        vertical-align: top;\n",
       "    }\n",
       "\n",
       "    .dataframe thead th {\n",
       "        text-align: right;\n",
       "    }\n",
       "</style>\n",
       "<table border=\"1\" class=\"dataframe\">\n",
       "  <thead>\n",
       "    <tr style=\"text-align: right;\">\n",
       "      <th></th>\n",
       "      <th>Serial Number</th>\n",
       "      <th>Country</th>\n",
       "      <th>Total Cases</th>\n",
       "      <th>Total Deaths</th>\n",
       "      <th>Total Recovered</th>\n",
       "      <th>Active Cases</th>\n",
       "      <th>Total Test</th>\n",
       "      <th>Population</th>\n",
       "    </tr>\n",
       "  </thead>\n",
       "  <tbody>\n",
       "    <tr>\n",
       "      <th>10</th>\n",
       "      <td>11</td>\n",
       "      <td>Turkey</td>\n",
       "      <td>17042722.0</td>\n",
       "      <td>101492.0</td>\n",
       "      <td>NaN</td>\n",
       "      <td>NaN</td>\n",
       "      <td>162743369.0</td>\n",
       "      <td>85561976.0</td>\n",
       "    </tr>\n",
       "    <tr>\n",
       "      <th>65</th>\n",
       "      <td>66</td>\n",
       "      <td>Tunisia</td>\n",
       "      <td>1150356.0</td>\n",
       "      <td>29308.0</td>\n",
       "      <td>NaN</td>\n",
       "      <td>NaN</td>\n",
       "      <td>4997373.0</td>\n",
       "      <td>12046656.0</td>\n",
       "    </tr>\n",
       "    <tr>\n",
       "      <th>77</th>\n",
       "      <td>78</td>\n",
       "      <td>Paraguay</td>\n",
       "      <td>806256.0</td>\n",
       "      <td>19820.0</td>\n",
       "      <td>NaN</td>\n",
       "      <td>NaN</td>\n",
       "      <td>2657506.0</td>\n",
       "      <td>7305843.0</td>\n",
       "    </tr>\n",
       "    <tr>\n",
       "      <th>94</th>\n",
       "      <td>95</td>\n",
       "      <td>Honduras</td>\n",
       "      <td>470757.0</td>\n",
       "      <td>11104.0</td>\n",
       "      <td>NaN</td>\n",
       "      <td>NaN</td>\n",
       "      <td>1619676.0</td>\n",
       "      <td>10221247.0</td>\n",
       "    </tr>\n",
       "    <tr>\n",
       "      <th>111</th>\n",
       "      <td>112</td>\n",
       "      <td>Martinique</td>\n",
       "      <td>229687.0</td>\n",
       "      <td>1097.0</td>\n",
       "      <td>NaN</td>\n",
       "      <td>NaN</td>\n",
       "      <td>828928.0</td>\n",
       "      <td>374087.0</td>\n",
       "    </tr>\n",
       "    <tr>\n",
       "      <th>112</th>\n",
       "      <td>113</td>\n",
       "      <td>Laos</td>\n",
       "      <td>217973.0</td>\n",
       "      <td>758.0</td>\n",
       "      <td>NaN</td>\n",
       "      <td>NaN</td>\n",
       "      <td>1233207.0</td>\n",
       "      <td>7481023.0</td>\n",
       "    </tr>\n",
       "    <tr>\n",
       "      <th>113</th>\n",
       "      <td>114</td>\n",
       "      <td>Iceland</td>\n",
       "      <td>208688.0</td>\n",
       "      <td>229.0</td>\n",
       "      <td>NaN</td>\n",
       "      <td>NaN</td>\n",
       "      <td>1996384.0</td>\n",
       "      <td>345393.0</td>\n",
       "    </tr>\n",
       "    <tr>\n",
       "      <th>117</th>\n",
       "      <td>118</td>\n",
       "      <td>Guadeloupe</td>\n",
       "      <td>201394.0</td>\n",
       "      <td>1007.0</td>\n",
       "      <td>NaN</td>\n",
       "      <td>NaN</td>\n",
       "      <td>938039.0</td>\n",
       "      <td>399794.0</td>\n",
       "    </tr>\n",
       "    <tr>\n",
       "      <th>136</th>\n",
       "      <td>137</td>\n",
       "      <td>Suriname</td>\n",
       "      <td>82020.0</td>\n",
       "      <td>1398.0</td>\n",
       "      <td>NaN</td>\n",
       "      <td>NaN</td>\n",
       "      <td>239603.0</td>\n",
       "      <td>596831.0</td>\n",
       "    </tr>\n",
       "    <tr>\n",
       "      <th>138</th>\n",
       "      <td>139</td>\n",
       "      <td>French Polynesia</td>\n",
       "      <td>77957.0</td>\n",
       "      <td>649.0</td>\n",
       "      <td>NaN</td>\n",
       "      <td>NaN</td>\n",
       "      <td>NaN</td>\n",
       "      <td>284164.0</td>\n",
       "    </tr>\n",
       "    <tr>\n",
       "      <th>156</th>\n",
       "      <td>157</td>\n",
       "      <td>Tanzania</td>\n",
       "      <td>42664.0</td>\n",
       "      <td>846.0</td>\n",
       "      <td>NaN</td>\n",
       "      <td>NaN</td>\n",
       "      <td>NaN</td>\n",
       "      <td>63298550.0</td>\n",
       "    </tr>\n",
       "    <tr>\n",
       "      <th>157</th>\n",
       "      <td>158</td>\n",
       "      <td>Mayotte</td>\n",
       "      <td>42002.0</td>\n",
       "      <td>188.0</td>\n",
       "      <td>NaN</td>\n",
       "      <td>NaN</td>\n",
       "      <td>176919.0</td>\n",
       "      <td>286259.0</td>\n",
       "    </tr>\n",
       "    <tr>\n",
       "      <th>161</th>\n",
       "      <td>162</td>\n",
       "      <td>Isle of Man</td>\n",
       "      <td>38008.0</td>\n",
       "      <td>116.0</td>\n",
       "      <td>NaN</td>\n",
       "      <td>NaN</td>\n",
       "      <td>150753.0</td>\n",
       "      <td>85732.0</td>\n",
       "    </tr>\n",
       "    <tr>\n",
       "      <th>164</th>\n",
       "      <td>165</td>\n",
       "      <td>Faeroe Islands</td>\n",
       "      <td>34658.0</td>\n",
       "      <td>28.0</td>\n",
       "      <td>NaN</td>\n",
       "      <td>NaN</td>\n",
       "      <td>778000.0</td>\n",
       "      <td>49233.0</td>\n",
       "    </tr>\n",
       "    <tr>\n",
       "      <th>172</th>\n",
       "      <td>173</td>\n",
       "      <td>Solomon Islands</td>\n",
       "      <td>24575.0</td>\n",
       "      <td>153.0</td>\n",
       "      <td>NaN</td>\n",
       "      <td>NaN</td>\n",
       "      <td>NaN</td>\n",
       "      <td>721159.0</td>\n",
       "    </tr>\n",
       "    <tr>\n",
       "      <th>175</th>\n",
       "      <td>176</td>\n",
       "      <td>Micronesia</td>\n",
       "      <td>22676.0</td>\n",
       "      <td>58.0</td>\n",
       "      <td>NaN</td>\n",
       "      <td>NaN</td>\n",
       "      <td>54967.0</td>\n",
       "      <td>117489.0</td>\n",
       "    </tr>\n",
       "    <tr>\n",
       "      <th>206</th>\n",
       "      <td>207</td>\n",
       "      <td>Sierra Leone</td>\n",
       "      <td>7760.0</td>\n",
       "      <td>126.0</td>\n",
       "      <td>NaN</td>\n",
       "      <td>NaN</td>\n",
       "      <td>259958.0</td>\n",
       "      <td>8306436.0</td>\n",
       "    </tr>\n",
       "    <tr>\n",
       "      <th>208</th>\n",
       "      <td>209</td>\n",
       "      <td>British Virgin Islands</td>\n",
       "      <td>7305.0</td>\n",
       "      <td>64.0</td>\n",
       "      <td>NaN</td>\n",
       "      <td>NaN</td>\n",
       "      <td>107339.0</td>\n",
       "      <td>30596.0</td>\n",
       "    </tr>\n",
       "    <tr>\n",
       "      <th>214</th>\n",
       "      <td>215</td>\n",
       "      <td>St. Barth</td>\n",
       "      <td>5420.0</td>\n",
       "      <td>6.0</td>\n",
       "      <td>NaN</td>\n",
       "      <td>NaN</td>\n",
       "      <td>78646.0</td>\n",
       "      <td>9945.0</td>\n",
       "    </tr>\n",
       "  </tbody>\n",
       "</table>\n",
       "</div>"
      ],
      "text/plain": [
       "     Serial Number                 Country  Total Cases  Total Deaths  \\\n",
       "10              11                  Turkey   17042722.0      101492.0   \n",
       "65              66                 Tunisia    1150356.0       29308.0   \n",
       "77              78                Paraguay     806256.0       19820.0   \n",
       "94              95                Honduras     470757.0       11104.0   \n",
       "111            112              Martinique     229687.0        1097.0   \n",
       "112            113                    Laos     217973.0         758.0   \n",
       "113            114                 Iceland     208688.0         229.0   \n",
       "117            118              Guadeloupe     201394.0        1007.0   \n",
       "136            137                Suriname      82020.0        1398.0   \n",
       "138            139        French Polynesia      77957.0         649.0   \n",
       "156            157                Tanzania      42664.0         846.0   \n",
       "157            158                 Mayotte      42002.0         188.0   \n",
       "161            162             Isle of Man      38008.0         116.0   \n",
       "164            165          Faeroe Islands      34658.0          28.0   \n",
       "172            173         Solomon Islands      24575.0         153.0   \n",
       "175            176              Micronesia      22676.0          58.0   \n",
       "206            207            Sierra Leone       7760.0         126.0   \n",
       "208            209  British Virgin Islands       7305.0          64.0   \n",
       "214            215               St. Barth       5420.0           6.0   \n",
       "\n",
       "     Total Recovered  Active Cases   Total Test  Population  \n",
       "10               NaN           NaN  162743369.0  85561976.0  \n",
       "65               NaN           NaN    4997373.0  12046656.0  \n",
       "77               NaN           NaN    2657506.0   7305843.0  \n",
       "94               NaN           NaN    1619676.0  10221247.0  \n",
       "111              NaN           NaN     828928.0    374087.0  \n",
       "112              NaN           NaN    1233207.0   7481023.0  \n",
       "113              NaN           NaN    1996384.0    345393.0  \n",
       "117              NaN           NaN     938039.0    399794.0  \n",
       "136              NaN           NaN     239603.0    596831.0  \n",
       "138              NaN           NaN          NaN    284164.0  \n",
       "156              NaN           NaN          NaN  63298550.0  \n",
       "157              NaN           NaN     176919.0    286259.0  \n",
       "161              NaN           NaN     150753.0     85732.0  \n",
       "164              NaN           NaN     778000.0     49233.0  \n",
       "172              NaN           NaN          NaN    721159.0  \n",
       "175              NaN           NaN      54967.0    117489.0  \n",
       "206              NaN           NaN     259958.0   8306436.0  \n",
       "208              NaN           NaN     107339.0     30596.0  \n",
       "214              NaN           NaN      78646.0      9945.0  "
      ]
     },
     "execution_count": 11,
     "metadata": {},
     "output_type": "execute_result"
    }
   ],
   "source": [
    "df[df['Active Cases'].isnull()]"
   ]
  },
  {
   "cell_type": "markdown",
   "id": "5187d971-5e70-4f5c-ae15-c54434d50bd7",
   "metadata": {},
   "source": [
    "Berdasarkan link https://covid19.place/?country=PY seluruh kota yang disebutkan di atas kasus aktif \n",
    "adalah 0 kejadian"
   ]
  },
  {
   "cell_type": "code",
   "execution_count": 12,
   "id": "35795966-2ac5-4628-9fdd-9aee0af536c8",
   "metadata": {},
   "outputs": [
    {
     "data": {
      "text/html": [
       "<div>\n",
       "<style scoped>\n",
       "    .dataframe tbody tr th:only-of-type {\n",
       "        vertical-align: middle;\n",
       "    }\n",
       "\n",
       "    .dataframe tbody tr th {\n",
       "        vertical-align: top;\n",
       "    }\n",
       "\n",
       "    .dataframe thead th {\n",
       "        text-align: right;\n",
       "    }\n",
       "</style>\n",
       "<table border=\"1\" class=\"dataframe\">\n",
       "  <thead>\n",
       "    <tr style=\"text-align: right;\">\n",
       "      <th></th>\n",
       "      <th>Serial Number</th>\n",
       "      <th>Country</th>\n",
       "      <th>Total Cases</th>\n",
       "      <th>Total Deaths</th>\n",
       "      <th>Total Recovered</th>\n",
       "      <th>Active Cases</th>\n",
       "      <th>Total Test</th>\n",
       "      <th>Population</th>\n",
       "    </tr>\n",
       "  </thead>\n",
       "  <tbody>\n",
       "    <tr>\n",
       "      <th>29</th>\n",
       "      <td>30</td>\n",
       "      <td>DPRK</td>\n",
       "      <td>4772813.0</td>\n",
       "      <td>74.0</td>\n",
       "      <td>4772739.0</td>\n",
       "      <td>0.0</td>\n",
       "      <td>NaN</td>\n",
       "      <td>25990679.0</td>\n",
       "    </tr>\n",
       "    <tr>\n",
       "      <th>138</th>\n",
       "      <td>139</td>\n",
       "      <td>French Polynesia</td>\n",
       "      <td>77957.0</td>\n",
       "      <td>649.0</td>\n",
       "      <td>NaN</td>\n",
       "      <td>NaN</td>\n",
       "      <td>NaN</td>\n",
       "      <td>284164.0</td>\n",
       "    </tr>\n",
       "    <tr>\n",
       "      <th>150</th>\n",
       "      <td>151</td>\n",
       "      <td>Seychelles</td>\n",
       "      <td>50665.0</td>\n",
       "      <td>172.0</td>\n",
       "      <td>50440.0</td>\n",
       "      <td>53.0</td>\n",
       "      <td>NaN</td>\n",
       "      <td>99426.0</td>\n",
       "    </tr>\n",
       "    <tr>\n",
       "      <th>156</th>\n",
       "      <td>157</td>\n",
       "      <td>Tanzania</td>\n",
       "      <td>42664.0</td>\n",
       "      <td>846.0</td>\n",
       "      <td>NaN</td>\n",
       "      <td>NaN</td>\n",
       "      <td>NaN</td>\n",
       "      <td>63298550.0</td>\n",
       "    </tr>\n",
       "    <tr>\n",
       "      <th>172</th>\n",
       "      <td>173</td>\n",
       "      <td>Solomon Islands</td>\n",
       "      <td>24575.0</td>\n",
       "      <td>153.0</td>\n",
       "      <td>NaN</td>\n",
       "      <td>NaN</td>\n",
       "      <td>NaN</td>\n",
       "      <td>721159.0</td>\n",
       "    </tr>\n",
       "    <tr>\n",
       "      <th>181</th>\n",
       "      <td>182</td>\n",
       "      <td>Nicaragua</td>\n",
       "      <td>18491.0</td>\n",
       "      <td>225.0</td>\n",
       "      <td>4225.0</td>\n",
       "      <td>14041.0</td>\n",
       "      <td>NaN</td>\n",
       "      <td>6779100.0</td>\n",
       "    </tr>\n",
       "    <tr>\n",
       "      <th>183</th>\n",
       "      <td>184</td>\n",
       "      <td>Tajikistan</td>\n",
       "      <td>17786.0</td>\n",
       "      <td>125.0</td>\n",
       "      <td>17264.0</td>\n",
       "      <td>397.0</td>\n",
       "      <td>NaN</td>\n",
       "      <td>9957464.0</td>\n",
       "    </tr>\n",
       "    <tr>\n",
       "      <th>190</th>\n",
       "      <td>191</td>\n",
       "      <td>Marshall Islands</td>\n",
       "      <td>15584.0</td>\n",
       "      <td>17.0</td>\n",
       "      <td>15528.0</td>\n",
       "      <td>39.0</td>\n",
       "      <td>NaN</td>\n",
       "      <td>60057.0</td>\n",
       "    </tr>\n",
       "    <tr>\n",
       "      <th>203</th>\n",
       "      <td>204</td>\n",
       "      <td>Comoros</td>\n",
       "      <td>8992.0</td>\n",
       "      <td>161.0</td>\n",
       "      <td>8827.0</td>\n",
       "      <td>4.0</td>\n",
       "      <td>NaN</td>\n",
       "      <td>907419.0</td>\n",
       "    </tr>\n",
       "    <tr>\n",
       "      <th>215</th>\n",
       "      <td>216</td>\n",
       "      <td>Kiribati</td>\n",
       "      <td>5008.0</td>\n",
       "      <td>18.0</td>\n",
       "      <td>2703.0</td>\n",
       "      <td>2287.0</td>\n",
       "      <td>NaN</td>\n",
       "      <td>123419.0</td>\n",
       "    </tr>\n",
       "    <tr>\n",
       "      <th>221</th>\n",
       "      <td>222</td>\n",
       "      <td>Tuvalu</td>\n",
       "      <td>2805.0</td>\n",
       "      <td>NaN</td>\n",
       "      <td>NaN</td>\n",
       "      <td>2805.0</td>\n",
       "      <td>NaN</td>\n",
       "      <td>12066.0</td>\n",
       "    </tr>\n",
       "    <tr>\n",
       "      <th>222</th>\n",
       "      <td>223</td>\n",
       "      <td>Saint Helena</td>\n",
       "      <td>2166.0</td>\n",
       "      <td>NaN</td>\n",
       "      <td>2.0</td>\n",
       "      <td>2164.0</td>\n",
       "      <td>NaN</td>\n",
       "      <td>6115.0</td>\n",
       "    </tr>\n",
       "    <tr>\n",
       "      <th>225</th>\n",
       "      <td>226</td>\n",
       "      <td>Niue</td>\n",
       "      <td>747.0</td>\n",
       "      <td>NaN</td>\n",
       "      <td>746.0</td>\n",
       "      <td>1.0</td>\n",
       "      <td>NaN</td>\n",
       "      <td>1622.0</td>\n",
       "    </tr>\n",
       "    <tr>\n",
       "      <th>226</th>\n",
       "      <td>227</td>\n",
       "      <td>Diamond Princess</td>\n",
       "      <td>712.0</td>\n",
       "      <td>13.0</td>\n",
       "      <td>699.0</td>\n",
       "      <td>0.0</td>\n",
       "      <td>NaN</td>\n",
       "      <td>NaN</td>\n",
       "    </tr>\n",
       "    <tr>\n",
       "      <th>227</th>\n",
       "      <td>228</td>\n",
       "      <td>Vatican City</td>\n",
       "      <td>29.0</td>\n",
       "      <td>NaN</td>\n",
       "      <td>29.0</td>\n",
       "      <td>0.0</td>\n",
       "      <td>NaN</td>\n",
       "      <td>799.0</td>\n",
       "    </tr>\n",
       "    <tr>\n",
       "      <th>228</th>\n",
       "      <td>229</td>\n",
       "      <td>Western Sahara</td>\n",
       "      <td>10.0</td>\n",
       "      <td>1.0</td>\n",
       "      <td>9.0</td>\n",
       "      <td>0.0</td>\n",
       "      <td>NaN</td>\n",
       "      <td>626161.0</td>\n",
       "    </tr>\n",
       "    <tr>\n",
       "      <th>229</th>\n",
       "      <td>230</td>\n",
       "      <td>MS Zaandam</td>\n",
       "      <td>9.0</td>\n",
       "      <td>2.0</td>\n",
       "      <td>7.0</td>\n",
       "      <td>0.0</td>\n",
       "      <td>NaN</td>\n",
       "      <td>NaN</td>\n",
       "    </tr>\n",
       "    <tr>\n",
       "      <th>230</th>\n",
       "      <td>231</td>\n",
       "      <td>Tokelau</td>\n",
       "      <td>5.0</td>\n",
       "      <td>NaN</td>\n",
       "      <td>NaN</td>\n",
       "      <td>5.0</td>\n",
       "      <td>NaN</td>\n",
       "      <td>1378.0</td>\n",
       "    </tr>\n",
       "  </tbody>\n",
       "</table>\n",
       "</div>"
      ],
      "text/plain": [
       "     Serial Number           Country  Total Cases  Total Deaths  \\\n",
       "29              30              DPRK    4772813.0          74.0   \n",
       "138            139  French Polynesia      77957.0         649.0   \n",
       "150            151        Seychelles      50665.0         172.0   \n",
       "156            157          Tanzania      42664.0         846.0   \n",
       "172            173   Solomon Islands      24575.0         153.0   \n",
       "181            182         Nicaragua      18491.0         225.0   \n",
       "183            184        Tajikistan      17786.0         125.0   \n",
       "190            191  Marshall Islands      15584.0          17.0   \n",
       "203            204           Comoros       8992.0         161.0   \n",
       "215            216          Kiribati       5008.0          18.0   \n",
       "221            222            Tuvalu       2805.0           NaN   \n",
       "222            223      Saint Helena       2166.0           NaN   \n",
       "225            226              Niue        747.0           NaN   \n",
       "226            227  Diamond Princess        712.0          13.0   \n",
       "227            228      Vatican City         29.0           NaN   \n",
       "228            229    Western Sahara         10.0           1.0   \n",
       "229            230        MS Zaandam          9.0           2.0   \n",
       "230            231           Tokelau          5.0           NaN   \n",
       "\n",
       "     Total Recovered  Active Cases  Total Test  Population  \n",
       "29         4772739.0           0.0         NaN  25990679.0  \n",
       "138              NaN           NaN         NaN    284164.0  \n",
       "150          50440.0          53.0         NaN     99426.0  \n",
       "156              NaN           NaN         NaN  63298550.0  \n",
       "172              NaN           NaN         NaN    721159.0  \n",
       "181           4225.0       14041.0         NaN   6779100.0  \n",
       "183          17264.0         397.0         NaN   9957464.0  \n",
       "190          15528.0          39.0         NaN     60057.0  \n",
       "203           8827.0           4.0         NaN    907419.0  \n",
       "215           2703.0        2287.0         NaN    123419.0  \n",
       "221              NaN        2805.0         NaN     12066.0  \n",
       "222              2.0        2164.0         NaN      6115.0  \n",
       "225            746.0           1.0         NaN      1622.0  \n",
       "226            699.0           0.0         NaN         NaN  \n",
       "227             29.0           0.0         NaN       799.0  \n",
       "228              9.0           0.0         NaN    626161.0  \n",
       "229              7.0           0.0         NaN         NaN  \n",
       "230              NaN           5.0         NaN      1378.0  "
      ]
     },
     "execution_count": 12,
     "metadata": {},
     "output_type": "execute_result"
    }
   ],
   "source": [
    "df[df['Total Test'].isnull()]"
   ]
  },
  {
   "cell_type": "code",
   "execution_count": 13,
   "id": "e20e1ded-42b6-4e87-b819-df78c42bf727",
   "metadata": {},
   "outputs": [
    {
     "data": {
      "text/html": [
       "<div>\n",
       "<style scoped>\n",
       "    .dataframe tbody tr th:only-of-type {\n",
       "        vertical-align: middle;\n",
       "    }\n",
       "\n",
       "    .dataframe tbody tr th {\n",
       "        vertical-align: top;\n",
       "    }\n",
       "\n",
       "    .dataframe thead th {\n",
       "        text-align: right;\n",
       "    }\n",
       "</style>\n",
       "<table border=\"1\" class=\"dataframe\">\n",
       "  <thead>\n",
       "    <tr style=\"text-align: right;\">\n",
       "      <th></th>\n",
       "      <th>Serial Number</th>\n",
       "      <th>Country</th>\n",
       "      <th>Total Cases</th>\n",
       "      <th>Total Deaths</th>\n",
       "      <th>Total Recovered</th>\n",
       "      <th>Active Cases</th>\n",
       "      <th>Total Test</th>\n",
       "      <th>Population</th>\n",
       "    </tr>\n",
       "  </thead>\n",
       "  <tbody>\n",
       "    <tr>\n",
       "      <th>90</th>\n",
       "      <td>91</td>\n",
       "      <td>China</td>\n",
       "      <td>503302.0</td>\n",
       "      <td>5272.0</td>\n",
       "      <td>379053.0</td>\n",
       "      <td>118977.0</td>\n",
       "      <td>160000000.0</td>\n",
       "      <td>NaN</td>\n",
       "    </tr>\n",
       "    <tr>\n",
       "      <th>226</th>\n",
       "      <td>227</td>\n",
       "      <td>Diamond Princess</td>\n",
       "      <td>712.0</td>\n",
       "      <td>13.0</td>\n",
       "      <td>699.0</td>\n",
       "      <td>0.0</td>\n",
       "      <td>NaN</td>\n",
       "      <td>NaN</td>\n",
       "    </tr>\n",
       "    <tr>\n",
       "      <th>229</th>\n",
       "      <td>230</td>\n",
       "      <td>MS Zaandam</td>\n",
       "      <td>9.0</td>\n",
       "      <td>2.0</td>\n",
       "      <td>7.0</td>\n",
       "      <td>0.0</td>\n",
       "      <td>NaN</td>\n",
       "      <td>NaN</td>\n",
       "    </tr>\n",
       "  </tbody>\n",
       "</table>\n",
       "</div>"
      ],
      "text/plain": [
       "     Serial Number           Country  Total Cases  Total Deaths  \\\n",
       "90              91             China     503302.0        5272.0   \n",
       "226            227  Diamond Princess        712.0          13.0   \n",
       "229            230        MS Zaandam          9.0           2.0   \n",
       "\n",
       "     Total Recovered  Active Cases   Total Test  Population  \n",
       "90          379053.0      118977.0  160000000.0         NaN  \n",
       "226            699.0           0.0          NaN         NaN  \n",
       "229              7.0           0.0          NaN         NaN  "
      ]
     },
     "execution_count": 13,
     "metadata": {},
     "output_type": "execute_result"
    }
   ],
   "source": [
    "df[df['Population'].isnull()]"
   ]
  },
  {
   "cell_type": "code",
   "execution_count": 14,
   "id": "4f13ccda-a1fb-402a-ab02-b195cc5b7c50",
   "metadata": {},
   "outputs": [
    {
     "data": {
      "text/plain": [
       "Index(['Serial Number', 'Country', 'Total Cases', 'Total Deaths',\n",
       "       'Total Recovered', 'Active Cases', 'Total Test', 'Population'],\n",
       "      dtype='object')"
      ]
     },
     "execution_count": 14,
     "metadata": {},
     "output_type": "execute_result"
    }
   ],
   "source": [
    "df.columns"
   ]
  },
  {
   "cell_type": "code",
   "execution_count": 15,
   "id": "9570de69-ba01-4818-8dbe-b2ac7c514f3b",
   "metadata": {},
   "outputs": [],
   "source": [
    "df['Total Deaths']=df['Total Deaths'].fillna(0)\n",
    "df['Total Recovered']=df['Total Recovered'].fillna(0)\n",
    "df['Active Cases']=df['Active Cases'].fillna(0)\n",
    "df['Total Test']=df['Active Cases'].fillna(df['Total Deaths']+df['Total Recovered']+df['Active Cases']+df['Total Cases'])\n",
    "df['Population']=df['Population'].fillna(df['Total Test']*5)"
   ]
  },
  {
   "cell_type": "code",
   "execution_count": 16,
   "id": "fe2ea21f-dc3d-45a2-8243-4703d41ed0bf",
   "metadata": {},
   "outputs": [
    {
     "name": "stdout",
     "output_type": "stream",
     "text": [
      "<class 'pandas.core.frame.DataFrame'>\n",
      "RangeIndex: 231 entries, 0 to 230\n",
      "Data columns (total 8 columns):\n",
      " #   Column           Non-Null Count  Dtype \n",
      "---  ------           --------------  ----- \n",
      " 0   Serial Number    231 non-null    int64 \n",
      " 1   Country          231 non-null    object\n",
      " 2   Total Cases      231 non-null    int64 \n",
      " 3   Total Deaths     231 non-null    int64 \n",
      " 4   Total Recovered  231 non-null    int64 \n",
      " 5   Active Cases     231 non-null    int64 \n",
      " 6   Total Test       231 non-null    int64 \n",
      " 7   Population       231 non-null    int64 \n",
      "dtypes: int64(7), object(1)\n",
      "memory usage: 14.6+ KB\n"
     ]
    }
   ],
   "source": [
    "numeric=['Total Cases', 'Total Deaths',\n",
    "       'Total Recovered', 'Active Cases', 'Total Test', 'Population']\n",
    "for i in numeric:\n",
    "    df[i] = df[i].astype('int64')\n",
    "df.info()"
   ]
  },
  {
   "cell_type": "code",
   "execution_count": 17,
   "id": "c3b7cf27-ddb9-48e1-a97d-57b05de2c7dc",
   "metadata": {},
   "outputs": [
    {
     "data": {
      "text/plain": [
       "Index(['Total Cases', 'Total Deaths', 'Total Recovered', 'Active Cases',\n",
       "       'Total Test', 'Population'],\n",
       "      dtype='object')"
      ]
     },
     "execution_count": 17,
     "metadata": {},
     "output_type": "execute_result"
    }
   ],
   "source": [
    "numeric=['Total Cases', 'Total Deaths',\n",
    "       'Total Recovered', 'Active Cases', 'Total Test', 'Population']\n",
    "numerical = df[numeric].columns\n",
    "numerical"
   ]
  },
  {
   "cell_type": "code",
   "execution_count": 18,
   "id": "5d64eee6-f53a-4548-88a5-3b396334821c",
   "metadata": {},
   "outputs": [],
   "source": [
    "from matplotlib import rcParams\n",
    "\n",
    "rcParams['figure.figsize'] = 12, 10\n",
    "rcParams['lines.linewidth'] = 3\n",
    "rcParams['xtick.labelsize'] = 'x-large'\n",
    "rcParams['ytick.labelsize'] = 'x-large'"
   ]
  },
  {
   "cell_type": "code",
   "execution_count": 19,
   "id": "b8985ed9-fd1c-45e6-993f-c8702a26993d",
   "metadata": {},
   "outputs": [
    {
     "data": {
      "image/png": "[encoded data removed]",
      "text/plain": [
       "<Figure size 864x720 with 6 Axes>"
      ]
     },
     "metadata": {
      "needs_background": "light"
     },
     "output_type": "display_data"
    }
   ],
   "source": [
    "for i in range(0, len(numerical)):\n",
    "    plt.subplot(1, len(numerical), i+1)\n",
    "    sns.boxplot(y= df[numerical[i]], color='blue', orient='v')\n",
    "    plt.tight_layout()"
   ]
  },
  {
   "cell_type": "code",
   "execution_count": 20,
   "id": "2ae5dd91-dc4e-48ec-83ed-e04e038a4a23",
   "metadata": {},
   "outputs": [
    {
     "data": {
      "image/png": "[encoded data removed]",
      "text/plain": [
       "<Figure size 864x720 with 6 Axes>"
      ]
     },
     "metadata": {
      "needs_background": "light"
     },
     "output_type": "display_data"
    }
   ],
   "source": [
    "for i in range (0,len(numerical)):\n",
    "    plt.subplot(2,3, i+1)\n",
    "    sns.kdeplot(x=df[numerical[i]], color='blue')\n",
    "    plt.xlabel(numerical[i])\n",
    "    plt.xticks(rotation=90)\n",
    "    plt.tight_layout()"
   ]
  },
  {
   "cell_type": "code",
   "execution_count": 21,
   "id": "2d7d7b05-73f9-4b2e-8d38-20ca70bfa661",
   "metadata": {},
   "outputs": [
    {
     "data": {
      "image/png": "[encoded data removed]",
      "text/plain": [
       "<Figure size 864x720 with 6 Axes>"
      ]
     },
     "metadata": {
      "needs_background": "light"
     },
     "output_type": "display_data"
    }
   ],
   "source": [
    "for i in range (0,len(numerical)):\n",
    "    plt.subplot(2,3, i+1)\n",
    "    sns.histplot(x=df[numerical[i]], color='blue')\n",
    "    plt.xlabel(numerical[i])\n",
    "    plt.xticks(rotation=90)\n",
    "    plt.tight_layout()"
   ]
  },
  {
   "cell_type": "code",
   "execution_count": 22,
   "id": "dab3da82-de78-41dc-a621-4dc47196ae52",
   "metadata": {},
   "outputs": [
    {
     "data": {
      "image/png": "[encoded data removed]",
      "text/plain": [
       "<Figure size 864x720 with 6 Axes>"
      ]
     },
     "metadata": {
      "needs_background": "light"
     },
     "output_type": "display_data"
    }
   ],
   "source": [
    "import warnings\n",
    "warnings.filterwarnings('ignore')\n",
    "for i in range (0,len(numerical)):\n",
    "    plt.subplot(2,3, i+1)\n",
    "    sns.distplot(x=df[numerical[i]], color='blue')\n",
    "    plt.xlabel(numerical[i])\n",
    "    plt.xticks(rotation=90)\n",
    "    plt.tight_layout()"
   ]
  },
  {
   "cell_type": "code",
   "execution_count": 23,
   "id": "3c884ed3-07aa-498b-82d6-5422ba6b8779",
   "metadata": {},
   "outputs": [],
   "source": [
    "import plotly.express as px"
   ]
  },
  {
   "cell_type": "code",
   "execution_count": 54,
   "id": "c961d2b6-8358-491e-9d8e-3140445aa47f",
   "metadata": {},
   "outputs": [
    {
     "data": {
      "application/vnd.plotly.v1+json": {
       "config": {
        "plotlyServerURL": "https://plot.ly"
       },
       "data": [
        {
         "geo": "geo",
         "hovertemplate": "Total Cases=%{marker.color}<br>Country=%{location}<extra></extra>",
         "legendgroup": "",
         "locationmode": "country names",
         "locations": [
          "USA",
          "India",
          "France",
          "Germany",
          "Brazil",
          "Japan",
          "S. Korea",
          "Italy",
          "UK",
          "Russia",
          "Turkey",
          "Spain",
          "Vietnam",
          "Australia",
          "Argentina",
          "Taiwan",
          "Netherlands",
          "Iran",
          "Mexico",
          "Indonesia",
          "Poland",
          "Colombia",
          "Austria",
          "Greece",
          "Portugal",
          "Ukraine",
          "Chile",
          "Malaysia",
          "Israel",
          "DPRK",
          "Thailand",
          "Belgium",
          "Czechia",
          "Canada",
          "Peru",
          "Switzerland",
          "Philippines",
          "South Africa",
          "Romania",
          "Denmark",
          "Hong Kong",
          "Sweden",
          "Serbia",
          "Iraq",
          "Singapore",
          "Hungary",
          "New Zealand",
          "Bangladesh",
          "Slovakia",
          "Georgia",
          "Jordan",
          "Ireland",
          "Pakistan",
          "Norway",
          "Finland",
          "Kazakhstan",
          "Slovenia",
          "Lithuania",
          "Bulgaria",
          "Morocco",
          "Croatia",
          "Lebanon",
          "Guatemala",
          "Bolivia",
          "Costa Rica",
          "Tunisia",
          "Cuba",
          "Ecuador",
          "UAE",
          "Uruguay",
          "Panama",
          "Mongolia",
          "Nepal",
          "Belarus",
          "Latvia",
          "Saudi Arabia",
          "Azerbaijan",
          "Paraguay",
          "Bahrain",
          "Sri Lanka",
          "Kuwait",
          "Dominican Republic",
          "Cyprus",
          "Myanmar",
          "Palestine",
          "Estonia",
          "Moldova",
          "Venezuela",
          "Egypt",
          "Libya",
          "China",
          "Ethiopia",
          "Qatar",
          "Réunion",
          "Honduras",
          "Armenia",
          "Bosnia and Herzegovina",
          "Oman",
          "North Macedonia",
          "Kenya",
          "Zambia",
          "Albania",
          "Botswana",
          "Luxembourg",
          "Montenegro",
          "Brunei",
          "Algeria",
          "Nigeria",
          "Zimbabwe",
          "Uzbekistan",
          "Mozambique",
          "Martinique",
          "Laos",
          "Iceland",
          "Afghanistan",
          "Kyrgyzstan",
          "El Salvador",
          "Guadeloupe",
          "Trinidad and Tobago",
          "Maldives",
          "Ghana",
          "Namibia",
          "Uganda",
          "Jamaica",
          "Cambodia",
          "Rwanda",
          "Cameroon",
          "Malta",
          "Barbados",
          "Angola",
          "Channel Islands",
          "French Guiana",
          "DRC",
          "Senegal",
          "Malawi",
          "Ivory Coast",
          "Suriname",
          "New Caledonia",
          "French Polynesia",
          "Eswatini",
          "Guyana",
          "Belize",
          "Fiji",
          "Madagascar",
          "Sudan",
          "Mauritania",
          "Cabo Verde",
          "Bhutan",
          "Syria",
          "Burundi",
          "Seychelles",
          "Gabon",
          "Andorra",
          "Papua New Guinea",
          "Curaçao",
          "Aruba",
          "Tanzania",
          "Mayotte",
          "Mauritius",
          "Togo",
          "Guinea",
          "Isle of Man",
          "Bahamas",
          "Lesotho",
          "Faeroe Islands",
          "Haiti",
          "Mali",
          "Cayman Islands",
          "Saint Lucia",
          "Benin",
          "Somalia",
          "Congo",
          "Solomon Islands",
          "San Marino",
          "Timor-Leste",
          "Micronesia",
          "Burkina Faso",
          "Liechtenstein",
          "Gibraltar",
          "Grenada",
          "Bermuda",
          "Nicaragua",
          "South Sudan",
          "Tajikistan",
          "Equatorial Guinea",
          "Tonga",
          "Samoa",
          "Monaco",
          "Dominica",
          "Djibouti",
          "Marshall Islands",
          "CAR",
          "Gambia",
          "Saint Martin",
          "Vanuatu",
          "Greenland",
          "Yemen",
          "Caribbean Netherlands",
          "Sint Maarten",
          "Eritrea",
          "Niger",
          "St. Vincent Grenadines",
          "Antigua and Barbuda",
          "Comoros",
          "Guinea-Bissau",
          "Liberia",
          "Sierra Leone",
          "Chad",
          "British Virgin Islands",
          "Cook Islands",
          "Saint Kitts and Nevis",
          "Turks and Caicos",
          "Sao Tome and Principe",
          "Palau",
          "St. Barth",
          "Kiribati",
          "Nauru",
          "Anguilla",
          "Macao",
          "Saint Pierre Miquelon",
          "Wallis and Futuna",
          "Tuvalu",
          "Saint Helena",
          "Falkland Islands",
          "Montserrat",
          "Niue",
          "Diamond Princess",
          "Vatican City",
          "Western Sahara",
          "MS Zaandam",
          "Tokelau"
         ],
         "marker": {
          "color": [
           104196861,
           44682784,
           39524311,
           37779833,
           36824580,
           32588442,
           30197066,
           25453789,
           24274361,
           21958696,
           17042722,
           13731478,
           11526508,
           11295446,
           10037135,
           9569611,
           8582500,
           7564350,
           7368252,
           6730289,
           6380225,
           6356309,
           5780229,
           5708301,
           5563907,
           5370131,
           5118981,
           5036593,
           4786189,
           4772813,
           4726984,
           4691499,
           4590019,
           4550256,
           4481621,
           4385701,
           4073454,
           4055966,
           3325006,
           3173247,
           2877280,
           2693458,
           2471198,
           2465545,
           2217110,
           2192447,
           2182355,
           2037556,
           1860893,
           1814180,
           1746997,
           1700253,
           1576313,
           1477856,
           1458619,
           1405917,
           1321852,
           1296865,
           1295426,
           1272240,
           1267580,
           1228639,
           1227853,
           1187986,
           1186176,
           1150356,
           1112438,
           1051239,
           1049409,
           1032710,
           1029701,
           1007871,
           1001102,
           994037,
           975355,
           827962,
           827944,
           806256,
           700452,
           671989,
           662858,
           660095,
           642663,
           633820,
           621008,
           613891,
           598673,
           551587,
           515645,
           507162,
           503302,
           499531,
           492534,
           485895,
           470757,
           446008,
           401384,
           399449,
           346428,
           342810,
           340763,
           334167,
           329227,
           297757,
           286355,
           275220,
           271378,
           266463,
           261606,
           250567,
           231994,
           229687,
           217973,
           208688,
           208545,
           206592,
           201785,
           201394,
           187908,
           185715,
           171112,
           170741,
           170400,
           153407,
           138693,
           133090,
           123993,
           117062,
           106157,
           105184,
           101116,
           98028,
           95514,
           88902,
           88559,
           87982,
           82020,
           79845,
           77957,
           74133,
           72950,
           70660,
           68820,
           67827,
           63742,
           63665,
           63229,
           62605,
           57453,
           53492,
           50665,
           48981,
           47839,
           46750,
           45986,
           43993,
           42664,
           42002,
           41652,
           39354,
           38240,
           38008,
           37491,
           34790,
           34658,
           34076,
           32783,
           31472,
           29803,
           27989,
           27318,
           25375,
           24575,
           23427,
           23415,
           22676,
           22025,
           21340,
           20399,
           19680,
           18766,
           18491,
           18368,
           17786,
           17190,
           16734,
           16087,
           16056,
           15760,
           15690,
           15584,
           15368,
           12586,
           12233,
           12014,
           11971,
           11945,
           11661,
           11010,
           10189,
           9931,
           9585,
           9106,
           8992,
           8947,
           8062,
           7760,
           7652,
           7305,
           7011,
           6592,
           6522,
           6280,
           5986,
           5420,
           5008,
           4621,
           3904,
           3488,
           3452,
           3427,
           2805,
           2166,
           1930,
           1403,
           747,
           712,
           29,
           10,
           9,
           5
          ],
          "coloraxis": "coloraxis",
          "size": [
           104196861,
           44682784,
           39524311,
           37779833,
           36824580,
           32588442,
           30197066,
           25453789,
           24274361,
           21958696,
           17042722,
           13731478,
           11526508,
           11295446,
           10037135,
           9569611,
           8582500,
           7564350,
           7368252,
           6730289,
           6380225,
           6356309,
           5780229,
           5708301,
           5563907,
           5370131,
           5118981,
           5036593,
           4786189,
           4772813,
           4726984,
           4691499,
           4590019,
           4550256,
           4481621,
           4385701,
           4073454,
           4055966,
           3325006,
           3173247,
           2877280,
           2693458,
           2471198,
           2465545,
           2217110,
           2192447,
           2182355,
           2037556,
           1860893,
           1814180,
           1746997,
           1700253,
           1576313,
           1477856,
           1458619,
           1405917,
           1321852,
           1296865,
           1295426,
           1272240,
           1267580,
           1228639,
           1227853,
           1187986,
           1186176,
           1150356,
           1112438,
           1051239,
           1049409,
           1032710,
           1029701,
           1007871,
           1001102,
           994037,
           975355,
           827962,
           827944,
           806256,
           700452,
           671989,
           662858,
           660095,
           642663,
           633820,
           621008,
           613891,
           598673,
           551587,
           515645,
           507162,
           503302,
           499531,
           492534,
           485895,
           470757,
           446008,
           401384,
           399449,
           346428,
           342810,
           340763,
           334167,
           329227,
           297757,
           286355,
           275220,
           271378,
           266463,
           261606,
           250567,
           231994,
           229687,
           217973,
           208688,
           208545,
           206592,
           201785,
           201394,
           187908,
           185715,
           171112,
           170741,
           170400,
           153407,
           138693,
           133090,
           123993,
           117062,
           106157,
           105184,
           101116,
           98028,
           95514,
           88902,
           88559,
           87982,
           82020,
           79845,
           77957,
           74133,
           72950,
           70660,
           68820,
           67827,
           63742,
           63665,
           63229,
           62605,
           57453,
           53492,
           50665,
           48981,
           47839,
           46750,
           45986,
           43993,
           42664,
           42002,
           41652,
           39354,
           38240,
           38008,
           37491,
           34790,
           34658,
           34076,
           32783,
           31472,
           29803,
           27989,
           27318,
           25375,
           24575,
           23427,
           23415,
           22676,
           22025,
           21340,
           20399,
           19680,
           18766,
           18491,
           18368,
           17786,
           17190,
           16734,
           16087,
           16056,
           15760,
           15690,
           15584,
           15368,
           12586,
           12233,
           12014,
           11971,
           11945,
           11661,
           11010,
           10189,
           9931,
           9585,
           9106,
           8992,
           8947,
           8062,
           7760,
           7652,
           7305,
           7011,
           6592,
           6522,
           6280,
           5986,
           5420,
           5008,
           4621,
           3904,
           3488,
           3452,
           3427,
           2805,
           2166,
           1930,
           1403,
           747,
           712,
           29,
           10,
           9,
           5
          ],
          "sizemode": "area",
          "sizeref": 260492.1525,
          "symbol": "circle"
         },
         "mode": "markers",
         "name": "",
         "showlegend": false,
         "type": "scattergeo"
        }
       ],
       "layout": {
        "autosize": true,
        "coloraxis": {
         "colorbar": {
          "title": {
           "text": "Total Cases"
          }
         },
         "colorscale": [
          [
           0,
           "rgb(0, 0, 0)"
          ],
          [
           0.3333333333333333,
           "rgb(230,0,0)"
          ],
          [
           0.6666666666666666,
           "rgb(255,210,0)"
          ],
          [
           1,
           "rgb(255,255,255)"
          ]
         ]
        },
        "geo": {
         "center": {},
         "domain": {
          "x": [
           0,
           1
          ],
          "y": [
           0,
           1
          ]
         },
         "scope": "world"
        },
        "legend": {
         "itemsizing": "constant",
         "tracegroupgap": 0
        },
        "template": {
         "data": {
          "bar": [
           {
            "error_x": {
             "color": "#f2f5fa"
            },
            "error_y": {
             "color": "#f2f5fa"
            },
            "marker": {
             "line": {
              "color": "rgb(17,17,17)",
              "width": 0.5
             },
             "pattern": {
              "fillmode": "overlay",
              "size": 10,
              "solidity": 0.2
             }
            },
            "type": "bar"
           }
          ],
          "barpolar": [
           {
            "marker": {
             "line": {
              "color": "rgb(17,17,17)",
              "width": 0.5
             },
             "pattern": {
              "fillmode": "overlay",
              "size": 10,
              "solidity": 0.2
             }
            },
            "type": "barpolar"
           }
          ],
          "carpet": [
           {
            "aaxis": {
             "endlinecolor": "#A2B1C6",
             "gridcolor": "#506784",
             "linecolor": "#506784",
             "minorgridcolor": "#506784",
             "startlinecolor": "#A2B1C6"
            },
            "baxis": {
             "endlinecolor": "#A2B1C6",
             "gridcolor": "#506784",
             "linecolor": "#506784",
             "minorgridcolor": "#506784",
             "startlinecolor": "#A2B1C6"
            },
            "type": "carpet"
           }
          ],
          "choropleth": [
           {
            "colorbar": {
             "outlinewidth": 0,
             "ticks": ""
            },
            "type": "choropleth"
           }
          ],
          "contour": [
           {
            "colorbar": {
             "outlinewidth": 0,
             "ticks": ""
            },
            "colorscale": [
             [
              0,
              "#0d0887"
             ],
             [
              0.1111111111111111,
              "#46039f"
             ],
             [
              0.2222222222222222,
              "#7201a8"
             ],
             [
              0.3333333333333333,
              "#9c179e"
             ],
             [
              0.4444444444444444,
              "#bd3786"
             ],
             [
              0.5555555555555556,
              "#d8576b"
             ],
             [
              0.6666666666666666,
              "#ed7953"
             ],
             [
              0.7777777777777778,
              "#fb9f3a"
             ],
             [
              0.8888888888888888,
              "#fdca26"
             ],
             [
              1,
              "#f0f921"
             ]
            ],
            "type": "contour"
           }
          ],
          "contourcarpet": [
           {
            "colorbar": {
             "outlinewidth": 0,
             "ticks": ""
            },
            "type": "contourcarpet"
           }
          ],
          "heatmap": [
           {
            "colorbar": {
             "outlinewidth": 0,
             "ticks": ""
            },
            "colorscale": [
             [
              0,
              "#0d0887"
             ],
             [
              0.1111111111111111,
              "#46039f"
             ],
             [
              0.2222222222222222,
              "#7201a8"
             ],
             [
              0.3333333333333333,
              "#9c179e"
             ],
             [
              0.4444444444444444,
              "#bd3786"
             ],
             [
              0.5555555555555556,
              "#d8576b"
             ],
             [
              0.6666666666666666,
              "#ed7953"
             ],
             [
              0.7777777777777778,
              "#fb9f3a"
             ],
             [
              0.8888888888888888,
              "#fdca26"
             ],
             [
              1,
              "#f0f921"
             ]
            ],
            "type": "heatmap"
           }
          ],
          "heatmapgl": [
           {
            "colorbar": {
             "outlinewidth": 0,
             "ticks": ""
            },
            "colorscale": [
             [
              0,
              "#0d0887"
             ],
             [
              0.1111111111111111,
              "#46039f"
             ],
             [
              0.2222222222222222,
              "#7201a8"
             ],
             [
              0.3333333333333333,
              "#9c179e"
             ],
             [
              0.4444444444444444,
              "#bd3786"
             ],
             [
              0.5555555555555556,
              "#d8576b"
             ],
             [
              0.6666666666666666,
              "#ed7953"
             ],
             [
              0.7777777777777778,
              "#fb9f3a"
             ],
             [
              0.8888888888888888,
              "#fdca26"
             ],
             [
              1,
              "#f0f921"
             ]
            ],
            "type": "heatmapgl"
           }
          ],
          "histogram": [
           {
            "marker": {
             "pattern": {
              "fillmode": "overlay",
              "size": 10,
              "solidity": 0.2
             }
            },
            "type": "histogram"
           }
          ],
          "histogram2d": [
           {
            "colorbar": {
             "outlinewidth": 0,
             "ticks": ""
            },
            "colorscale": [
             [
              0,
              "#0d0887"
             ],
             [
              0.1111111111111111,
              "#46039f"
             ],
             [
              0.2222222222222222,
              "#7201a8"
             ],
             [
              0.3333333333333333,
              "#9c179e"
             ],
             [
              0.4444444444444444,
              "#bd3786"
             ],
             [
              0.5555555555555556,
              "#d8576b"
             ],
             [
              0.6666666666666666,
              "#ed7953"
             ],
             [
              0.7777777777777778,
              "#fb9f3a"
             ],
             [
              0.8888888888888888,
              "#fdca26"
             ],
             [
              1,
              "#f0f921"
             ]
            ],
            "type": "histogram2d"
           }
          ],
          "histogram2dcontour": [
           {
            "colorbar": {
             "outlinewidth": 0,
             "ticks": ""
            },
            "colorscale": [
             [
              0,
              "#0d0887"
             ],
             [
              0.1111111111111111,
              "#46039f"
             ],
             [
              0.2222222222222222,
              "#7201a8"
             ],
             [
              0.3333333333333333,
              "#9c179e"
             ],
             [
              0.4444444444444444,
              "#bd3786"
             ],
             [
              0.5555555555555556,
              "#d8576b"
             ],
             [
              0.6666666666666666,
              "#ed7953"
             ],
             [
              0.7777777777777778,
              "#fb9f3a"
             ],
             [
              0.8888888888888888,
              "#fdca26"
             ],
             [
              1,
              "#f0f921"
             ]
            ],
            "type": "histogram2dcontour"
           }
          ],
          "mesh3d": [
           {
            "colorbar": {
             "outlinewidth": 0,
             "ticks": ""
            },
            "type": "mesh3d"
           }
          ],
          "parcoords": [
           {
            "line": {
             "colorbar": {
              "outlinewidth": 0,
              "ticks": ""
             }
            },
            "type": "parcoords"
           }
          ],
          "pie": [
           {
            "automargin": true,
            "type": "pie"
           }
          ],
          "scatter": [
           {
            "marker": {
             "line": {
              "color": "#283442"
             }
            },
            "type": "scatter"
           }
          ],
          "scatter3d": [
           {
            "line": {
             "colorbar": {
              "outlinewidth": 0,
              "ticks": ""
             }
            },
            "marker": {
             "colorbar": {
              "outlinewidth": 0,
              "ticks": ""
             }
            },
            "type": "scatter3d"
           }
          ],
          "scattercarpet": [
           {
            "marker": {
             "colorbar": {
              "outlinewidth": 0,
              "ticks": ""
             }
            },
            "type": "scattercarpet"
           }
          ],
          "scattergeo": [
           {
            "marker": {
             "colorbar": {
              "outlinewidth": 0,
              "ticks": ""
             }
            },
            "type": "scattergeo"
           }
          ],
          "scattergl": [
           {
            "marker": {
             "line": {
              "color": "#283442"
             }
            },
            "type": "scattergl"
           }
          ],
          "scattermapbox": [
           {
            "marker": {
             "colorbar": {
              "outlinewidth": 0,
              "ticks": ""
             }
            },
            "type": "scattermapbox"
           }
          ],
          "scatterpolar": [
           {
            "marker": {
             "colorbar": {
              "outlinewidth": 0,
              "ticks": ""
             }
            },
            "type": "scatterpolar"
           }
          ],
          "scatterpolargl": [
           {
            "marker": {
             "colorbar": {
              "outlinewidth": 0,
              "ticks": ""
             }
            },
            "type": "scatterpolargl"
           }
          ],
          "scatterternary": [
           {
            "marker": {
             "colorbar": {
              "outlinewidth": 0,
              "ticks": ""
             }
            },
            "type": "scatterternary"
           }
          ],
          "surface": [
           {
            "colorbar": {
             "outlinewidth": 0,
             "ticks": ""
            },
            "colorscale": [
             [
              0,
              "#0d0887"
             ],
             [
              0.1111111111111111,
              "#46039f"
             ],
             [
              0.2222222222222222,
              "#7201a8"
             ],
             [
              0.3333333333333333,
              "#9c179e"
             ],
             [
              0.4444444444444444,
              "#bd3786"
             ],
             [
              0.5555555555555556,
              "#d8576b"
             ],
             [
              0.6666666666666666,
              "#ed7953"
             ],
             [
              0.7777777777777778,
              "#fb9f3a"
             ],
             [
              0.8888888888888888,
              "#fdca26"
             ],
             [
              1,
              "#f0f921"
             ]
            ],
            "type": "surface"
           }
          ],
          "table": [
           {
            "cells": {
             "fill": {
              "color": "#506784"
             },
             "line": {
              "color": "rgb(17,17,17)"
             }
            },
            "header": {
             "fill": {
              "color": "#2a3f5f"
             },
             "line": {
              "color": "rgb(17,17,17)"
             }
            },
            "type": "table"
           }
          ]
         },
         "layout": {
          "annotationdefaults": {
           "arrowcolor": "#f2f5fa",
           "arrowhead": 0,
           "arrowwidth": 1
          },
          "autotypenumbers": "strict",
          "coloraxis": {
           "colorbar": {
            "outlinewidth": 0,
            "ticks": ""
           }
          },
          "colorscale": {
           "diverging": [
            [
             0,
             "#8e0152"
            ],
            [
             0.1,
             "#c51b7d"
            ],
            [
             0.2,
             "#de77ae"
            ],
            [
             0.3,
             "#f1b6da"
            ],
            [
             0.4,
             "#fde0ef"
            ],
            [
             0.5,
             "#f7f7f7"
            ],
            [
             0.6,
             "#e6f5d0"
            ],
            [
             0.7,
             "#b8e186"
            ],
            [
             0.8,
             "#7fbc41"
            ],
            [
             0.9,
             "#4d9221"
            ],
            [
             1,
             "#276419"
            ]
           ],
           "sequential": [
            [
             0,
             "#0d0887"
            ],
            [
             0.1111111111111111,
             "#46039f"
            ],
            [
             0.2222222222222222,
             "#7201a8"
            ],
            [
             0.3333333333333333,
             "#9c179e"
            ],
            [
             0.4444444444444444,
             "#bd3786"
            ],
            [
             0.5555555555555556,
             "#d8576b"
            ],
            [
             0.6666666666666666,
             "#ed7953"
            ],
            [
             0.7777777777777778,
             "#fb9f3a"
            ],
            [
             0.8888888888888888,
             "#fdca26"
            ],
            [
             1,
             "#f0f921"
            ]
           ],
           "sequentialminus": [
            [
             0,
             "#0d0887"
            ],
            [
             0.1111111111111111,
             "#46039f"
            ],
            [
             0.2222222222222222,
             "#7201a8"
            ],
            [
             0.3333333333333333,
             "#9c179e"
            ],
            [
             0.4444444444444444,
             "#bd3786"
            ],
            [
             0.5555555555555556,
             "#d8576b"
            ],
            [
             0.6666666666666666,
             "#ed7953"
            ],
            [
             0.7777777777777778,
             "#fb9f3a"
            ],
            [
             0.8888888888888888,
             "#fdca26"
            ],
            [
             1,
             "#f0f921"
            ]
           ]
          },
          "colorway": [
           "#636efa",
           "#EF553B",
           "#00cc96",
           "#ab63fa",
           "#FFA15A",
           "#19d3f3",
           "#FF6692",
           "#B6E880",
           "#FF97FF",
           "#FECB52"
          ],
          "font": {
           "color": "#f2f5fa"
          },
          "geo": {
           "bgcolor": "rgb(17,17,17)",
           "lakecolor": "rgb(17,17,17)",
           "landcolor": "rgb(17,17,17)",
           "showlakes": true,
           "showland": true,
           "subunitcolor": "#506784"
          },
          "hoverlabel": {
           "align": "left"
          },
          "hovermode": "closest",
          "mapbox": {
           "style": "dark"
          },
          "paper_bgcolor": "rgb(17,17,17)",
          "plot_bgcolor": "rgb(17,17,17)",
          "polar": {
           "angularaxis": {
            "gridcolor": "#506784",
            "linecolor": "#506784",
            "ticks": ""
           },
           "bgcolor": "rgb(17,17,17)",
           "radialaxis": {
            "gridcolor": "#506784",
            "linecolor": "#506784",
            "ticks": ""
           }
          },
          "scene": {
           "xaxis": {
            "backgroundcolor": "rgb(17,17,17)",
            "gridcolor": "#506784",
            "gridwidth": 2,
            "linecolor": "#506784",
            "showbackground": true,
            "ticks": "",
            "zerolinecolor": "#C8D4E3"
           },
           "yaxis": {
            "backgroundcolor": "rgb(17,17,17)",
            "gridcolor": "#506784",
            "gridwidth": 2,
            "linecolor": "#506784",
            "showbackground": true,
            "ticks": "",
            "zerolinecolor": "#C8D4E3"
           },
           "zaxis": {
            "backgroundcolor": "rgb(17,17,17)",
            "gridcolor": "#506784",
            "gridwidth": 2,
            "linecolor": "#506784",
            "showbackground": true,
            "ticks": "",
            "zerolinecolor": "#C8D4E3"
           }
          },
          "shapedefaults": {
           "line": {
            "color": "#f2f5fa"
           }
          },
          "sliderdefaults": {
           "bgcolor": "#C8D4E3",
           "bordercolor": "rgb(17,17,17)",
           "borderwidth": 1,
           "tickwidth": 0
          },
          "ternary": {
           "aaxis": {
            "gridcolor": "#506784",
            "linecolor": "#506784",
            "ticks": ""
           },
           "baxis": {
            "gridcolor": "#506784",
            "linecolor": "#506784",
            "ticks": ""
           },
           "bgcolor": "rgb(17,17,17)",
           "caxis": {
            "gridcolor": "#506784",
            "linecolor": "#506784",
            "ticks": ""
           }
          },
          "title": {
           "x": 0.05
          },
          "updatemenudefaults": {
           "bgcolor": "#506784",
           "borderwidth": 0
          },
          "xaxis": {
           "automargin": true,
           "gridcolor": "#283442",
           "linecolor": "#506784",
           "ticks": "",
           "title": {
            "standoff": 15
           },
           "zerolinecolor": "#283442",
           "zerolinewidth": 2
          },
          "yaxis": {
           "automargin": true,
           "gridcolor": "#283442",
           "linecolor": "#506784",
           "ticks": "",
           "title": {
            "standoff": 15
           },
           "zerolinecolor": "#283442",
           "zerolinewidth": 2
          }
         }
        },
        "title": {
         "text": "Covid-19 Cases Around the Globe"
        }
       }
      },
      "image/png": "[encoded data removed]",
      "text/html": [
       "<div>                            <div id=\"8cd19120-d36e-4e71-8b44-c9deac38e2f8\" class=\"plotly-graph-div\" style=\"height:525px; width:100%;\"></div>            <script type=\"text/javascript\">                require([\"plotly\"], function(Plotly) {                    window.PLOTLYENV=window.PLOTLYENV || {};                                    if (document.getElementById(\"8cd19120-d36e-4e71-8b44-c9deac38e2f8\")) {                    Plotly.newPlot(                        \"8cd19120-d36e-4e71-8b44-c9deac38e2f8\",                        [{\"geo\":\"geo\",\"hovertemplate\":\"Total Cases=%{marker.color}<br>Country=%{location}<extra></extra>\",\"legendgroup\":\"\",\"locationmode\":\"country names\",\"locations\":[\"USA\",\"India\",\"France\",\"Germany\",\"Brazil\",\"Japan\",\"S. Korea\",\"Italy\",\"UK\",\"Russia\",\"Turkey\",\"Spain\",\"Vietnam\",\"Australia\",\"Argentina\",\"Taiwan\",\"Netherlands\",\"Iran\",\"Mexico\",\"Indonesia\",\"Poland\",\"Colombia\",\"Austria\",\"Greece\",\"Portugal\",\"Ukraine\",\"Chile\",\"Malaysia\",\"Israel\",\"DPRK\",\"Thailand\",\"Belgium\",\"Czechia\",\"Canada\",\"Peru\",\"Switzerland\",\"Philippines\",\"South Africa\",\"Romania\",\"Denmark\",\"Hong Kong\",\"Sweden\",\"Serbia\",\"Iraq\",\"Singapore\",\"Hungary\",\"New Zealand\",\"Bangladesh\",\"Slovakia\",\"Georgia\",\"Jordan\",\"Ireland\",\"Pakistan\",\"Norway\",\"Finland\",\"Kazakhstan\",\"Slovenia\",\"Lithuania\",\"Bulgaria\",\"Morocco\",\"Croatia\",\"Lebanon\",\"Guatemala\",\"Bolivia\",\"Costa Rica\",\"Tunisia\",\"Cuba\",\"Ecuador\",\"UAE\",\"Uruguay\",\"Panama\",\"Mongolia\",\"Nepal\",\"Belarus\",\"Latvia\",\"Saudi Arabia\",\"Azerbaijan\",\"Paraguay\",\"Bahrain\",\"Sri Lanka\",\"Kuwait\",\"Dominican Republic\",\"Cyprus\",\"Myanmar\",\"Palestine\",\"Estonia\",\"Moldova\",\"Venezuela\",\"Egypt\",\"Libya\",\"China\",\"Ethiopia\",\"Qatar\",\"R\\u00e9union\",\"Honduras\",\"Armenia\",\"Bosnia and Herzegovina\",\"Oman\",\"North Macedonia\",\"Kenya\",\"Zambia\",\"Albania\",\"Botswana\",\"Luxembourg\",\"Montenegro\",\"Brunei\",\"Algeria\",\"Nigeria\",\"Zimbabwe\",\"Uzbekistan\",\"Mozambique\",\"Martinique\",\"Laos\",\"Iceland\",\"Afghanistan\",\"Kyrgyzstan\",\"El Salvador\",\"Guadeloupe\",\"Trinidad and Tobago\",\"Maldives\",\"Ghana\",\"Namibia\",\"Uganda\",\"Jamaica\",\"Cambodia\",\"Rwanda\",\"Cameroon\",\"Malta\",\"Barbados\",\"Angola\",\"Channel Islands\",\"French Guiana\",\"DRC\",\"Senegal\",\"Malawi\",\"Ivory Coast\",\"Suriname\",\"New Caledonia\",\"French Polynesia\",\"Eswatini\",\"Guyana\",\"Belize\",\"Fiji\",\"Madagascar\",\"Sudan\",\"Mauritania\",\"Cabo Verde\",\"Bhutan\",\"Syria\",\"Burundi\",\"Seychelles\",\"Gabon\",\"Andorra\",\"Papua New Guinea\",\"Cura\\u00e7ao\",\"Aruba\",\"Tanzania\",\"Mayotte\",\"Mauritius\",\"Togo\",\"Guinea\",\"Isle of Man\",\"Bahamas\",\"Lesotho\",\"Faeroe Islands\",\"Haiti\",\"Mali\",\"Cayman Islands\",\"Saint Lucia\",\"Benin\",\"Somalia\",\"Congo\",\"Solomon Islands\",\"San Marino\",\"Timor-Leste\",\"Micronesia\",\"Burkina Faso\",\"Liechtenstein\",\"Gibraltar\",\"Grenada\",\"Bermuda\",\"Nicaragua\",\"South Sudan\",\"Tajikistan\",\"Equatorial Guinea\",\"Tonga\",\"Samoa\",\"Monaco\",\"Dominica\",\"Djibouti\",\"Marshall Islands\",\"CAR\",\"Gambia\",\"Saint Martin\",\"Vanuatu\",\"Greenland\",\"Yemen\",\"Caribbean Netherlands\",\"Sint Maarten\",\"Eritrea\",\"Niger\",\"St. Vincent Grenadines\",\"Antigua and Barbuda\",\"Comoros\",\"Guinea-Bissau\",\"Liberia\",\"Sierra Leone\",\"Chad\",\"British Virgin Islands\",\"Cook Islands\",\"Saint Kitts and Nevis\",\"Turks and Caicos\",\"Sao Tome and Principe\",\"Palau\",\"St. Barth\",\"Kiribati\",\"Nauru\",\"Anguilla\",\"Macao\",\"Saint Pierre Miquelon\",\"Wallis and Futuna\",\"Tuvalu\",\"Saint Helena\",\"Falkland Islands\",\"Montserrat\",\"Niue\",\"Diamond Princess\",\"Vatican City\",\"Western Sahara\",\"MS Zaandam\",\"Tokelau\"],\"marker\":{\"color\":[104196861,44682784,39524311,37779833,36824580,32588442,30197066,25453789,24274361,21958696,17042722,13731478,11526508,11295446,10037135,9569611,8582500,7564350,7368252,6730289,6380225,6356309,5780229,5708301,5563907,5370131,5118981,5036593,4786189,4772813,4726984,4691499,4590019,4550256,4481621,4385701,4073454,4055966,3325006,3173247,2877280,2693458,2471198,2465545,2217110,2192447,2182355,2037556,1860893,1814180,1746997,1700253,1576313,1477856,1458619,1405917,1321852,1296865,1295426,1272240,1267580,1228639,1227853,1187986,1186176,1150356,1112438,1051239,1049409,1032710,1029701,1007871,1001102,994037,975355,827962,827944,806256,700452,671989,662858,660095,642663,633820,621008,613891,598673,551587,515645,507162,503302,499531,492534,485895,470757,446008,401384,399449,346428,342810,340763,334167,329227,297757,286355,275220,271378,266463,261606,250567,231994,229687,217973,208688,208545,206592,201785,201394,187908,185715,171112,170741,170400,153407,138693,133090,123993,117062,106157,105184,101116,98028,95514,88902,88559,87982,82020,79845,77957,74133,72950,70660,68820,67827,63742,63665,63229,62605,57453,53492,50665,48981,47839,46750,45986,43993,42664,42002,41652,39354,38240,38008,37491,34790,34658,34076,32783,31472,29803,27989,27318,25375,24575,23427,23415,22676,22025,21340,20399,19680,18766,18491,18368,17786,17190,16734,16087,16056,15760,15690,15584,15368,12586,12233,12014,11971,11945,11661,11010,10189,9931,9585,9106,8992,8947,8062,7760,7652,7305,7011,6592,6522,6280,5986,5420,5008,4621,3904,3488,3452,3427,2805,2166,1930,1403,747,712,29,10,9,5],\"coloraxis\":\"coloraxis\",\"size\":[104196861,44682784,39524311,37779833,36824580,32588442,30197066,25453789,24274361,21958696,17042722,13731478,11526508,11295446,10037135,9569611,8582500,7564350,7368252,6730289,6380225,6356309,5780229,5708301,5563907,5370131,5118981,5036593,4786189,4772813,4726984,4691499,4590019,4550256,4481621,4385701,4073454,4055966,3325006,3173247,2877280,2693458,2471198,2465545,2217110,2192447,2182355,2037556,1860893,1814180,1746997,1700253,1576313,1477856,1458619,1405917,1321852,1296865,1295426,1272240,1267580,1228639,1227853,1187986,1186176,1150356,1112438,1051239,1049409,1032710,1029701,1007871,1001102,994037,975355,827962,827944,806256,700452,671989,662858,660095,642663,633820,621008,613891,598673,551587,515645,507162,503302,499531,492534,485895,470757,446008,401384,399449,346428,342810,340763,334167,329227,297757,286355,275220,271378,266463,261606,250567,231994,229687,217973,208688,208545,206592,201785,201394,187908,185715,171112,170741,170400,153407,138693,133090,123993,117062,106157,105184,101116,98028,95514,88902,88559,87982,82020,79845,77957,74133,72950,70660,68820,67827,63742,63665,63229,62605,57453,53492,50665,48981,47839,46750,45986,43993,42664,42002,41652,39354,38240,38008,37491,34790,34658,34076,32783,31472,29803,27989,27318,25375,24575,23427,23415,22676,22025,21340,20399,19680,18766,18491,18368,17786,17190,16734,16087,16056,15760,15690,15584,15368,12586,12233,12014,11971,11945,11661,11010,10189,9931,9585,9106,8992,8947,8062,7760,7652,7305,7011,6592,6522,6280,5986,5420,5008,4621,3904,3488,3452,3427,2805,2166,1930,1403,747,712,29,10,9,5],\"sizemode\":\"area\",\"sizeref\":260492.1525,\"symbol\":\"circle\"},\"mode\":\"markers\",\"name\":\"\",\"showlegend\":false,\"type\":\"scattergeo\"}],                        {\"template\":{\"data\":{\"barpolar\":[{\"marker\":{\"line\":{\"color\":\"rgb(17,17,17)\",\"width\":0.5},\"pattern\":{\"fillmode\":\"overlay\",\"size\":10,\"solidity\":0.2}},\"type\":\"barpolar\"}],\"bar\":[{\"error_x\":{\"color\":\"#f2f5fa\"},\"error_y\":{\"color\":\"#f2f5fa\"},\"marker\":{\"line\":{\"color\":\"rgb(17,17,17)\",\"width\":0.5},\"pattern\":{\"fillmode\":\"overlay\",\"size\":10,\"solidity\":0.2}},\"type\":\"bar\"}],\"carpet\":[{\"aaxis\":{\"endlinecolor\":\"#A2B1C6\",\"gridcolor\":\"#506784\",\"linecolor\":\"#506784\",\"minorgridcolor\":\"#506784\",\"startlinecolor\":\"#A2B1C6\"},\"baxis\":{\"endlinecolor\":\"#A2B1C6\",\"gridcolor\":\"#506784\",\"linecolor\":\"#506784\",\"minorgridcolor\":\"#506784\",\"startlinecolor\":\"#A2B1C6\"},\"type\":\"carpet\"}],\"choropleth\":[{\"colorbar\":{\"outlinewidth\":0,\"ticks\":\"\"},\"type\":\"choropleth\"}],\"contourcarpet\":[{\"colorbar\":{\"outlinewidth\":0,\"ticks\":\"\"},\"type\":\"contourcarpet\"}],\"contour\":[{\"colorbar\":{\"outlinewidth\":0,\"ticks\":\"\"},\"colorscale\":[[0.0,\"#0d0887\"],[0.1111111111111111,\"#46039f\"],[0.2222222222222222,\"#7201a8\"],[0.3333333333333333,\"#9c179e\"],[0.4444444444444444,\"#bd3786\"],[0.5555555555555556,\"#d8576b\"],[0.6666666666666666,\"#ed7953\"],[0.7777777777777778,\"#fb9f3a\"],[0.8888888888888888,\"#fdca26\"],[1.0,\"#f0f921\"]],\"type\":\"contour\"}],\"heatmapgl\":[{\"colorbar\":{\"outlinewidth\":0,\"ticks\":\"\"},\"colorscale\":[[0.0,\"#0d0887\"],[0.1111111111111111,\"#46039f\"],[0.2222222222222222,\"#7201a8\"],[0.3333333333333333,\"#9c179e\"],[0.4444444444444444,\"#bd3786\"],[0.5555555555555556,\"#d8576b\"],[0.6666666666666666,\"#ed7953\"],[0.7777777777777778,\"#fb9f3a\"],[0.8888888888888888,\"#fdca26\"],[1.0,\"#f0f921\"]],\"type\":\"heatmapgl\"}],\"heatmap\":[{\"colorbar\":{\"outlinewidth\":0,\"ticks\":\"\"},\"colorscale\":[[0.0,\"#0d0887\"],[0.1111111111111111,\"#46039f\"],[0.2222222222222222,\"#7201a8\"],[0.3333333333333333,\"#9c179e\"],[0.4444444444444444,\"#bd3786\"],[0.5555555555555556,\"#d8576b\"],[0.6666666666666666,\"#ed7953\"],[0.7777777777777778,\"#fb9f3a\"],[0.8888888888888888,\"#fdca26\"],[1.0,\"#f0f921\"]],\"type\":\"heatmap\"}],\"histogram2dcontour\":[{\"colorbar\":{\"outlinewidth\":0,\"ticks\":\"\"},\"colorscale\":[[0.0,\"#0d0887\"],[0.1111111111111111,\"#46039f\"],[0.2222222222222222,\"#7201a8\"],[0.3333333333333333,\"#9c179e\"],[0.4444444444444444,\"#bd3786\"],[0.5555555555555556,\"#d8576b\"],[0.6666666666666666,\"#ed7953\"],[0.7777777777777778,\"#fb9f3a\"],[0.8888888888888888,\"#fdca26\"],[1.0,\"#f0f921\"]],\"type\":\"histogram2dcontour\"}],\"histogram2d\":[{\"colorbar\":{\"outlinewidth\":0,\"ticks\":\"\"},\"colorscale\":[[0.0,\"#0d0887\"],[0.1111111111111111,\"#46039f\"],[0.2222222222222222,\"#7201a8\"],[0.3333333333333333,\"#9c179e\"],[0.4444444444444444,\"#bd3786\"],[0.5555555555555556,\"#d8576b\"],[0.6666666666666666,\"#ed7953\"],[0.7777777777777778,\"#fb9f3a\"],[0.8888888888888888,\"#fdca26\"],[1.0,\"#f0f921\"]],\"type\":\"histogram2d\"}],\"histogram\":[{\"marker\":{\"pattern\":{\"fillmode\":\"overlay\",\"size\":10,\"solidity\":0.2}},\"type\":\"histogram\"}],\"mesh3d\":[{\"colorbar\":{\"outlinewidth\":0,\"ticks\":\"\"},\"type\":\"mesh3d\"}],\"parcoords\":[{\"line\":{\"colorbar\":{\"outlinewidth\":0,\"ticks\":\"\"}},\"type\":\"parcoords\"}],\"pie\":[{\"automargin\":true,\"type\":\"pie\"}],\"scatter3d\":[{\"line\":{\"colorbar\":{\"outlinewidth\":0,\"ticks\":\"\"}},\"marker\":{\"colorbar\":{\"outlinewidth\":0,\"ticks\":\"\"}},\"type\":\"scatter3d\"}],\"scattercarpet\":[{\"marker\":{\"colorbar\":{\"outlinewidth\":0,\"ticks\":\"\"}},\"type\":\"scattercarpet\"}],\"scattergeo\":[{\"marker\":{\"colorbar\":{\"outlinewidth\":0,\"ticks\":\"\"}},\"type\":\"scattergeo\"}],\"scattergl\":[{\"marker\":{\"line\":{\"color\":\"#283442\"}},\"type\":\"scattergl\"}],\"scattermapbox\":[{\"marker\":{\"colorbar\":{\"outlinewidth\":0,\"ticks\":\"\"}},\"type\":\"scattermapbox\"}],\"scatterpolargl\":[{\"marker\":{\"colorbar\":{\"outlinewidth\":0,\"ticks\":\"\"}},\"type\":\"scatterpolargl\"}],\"scatterpolar\":[{\"marker\":{\"colorbar\":{\"outlinewidth\":0,\"ticks\":\"\"}},\"type\":\"scatterpolar\"}],\"scatter\":[{\"marker\":{\"line\":{\"color\":\"#283442\"}},\"type\":\"scatter\"}],\"scatterternary\":[{\"marker\":{\"colorbar\":{\"outlinewidth\":0,\"ticks\":\"\"}},\"type\":\"scatterternary\"}],\"surface\":[{\"colorbar\":{\"outlinewidth\":0,\"ticks\":\"\"},\"colorscale\":[[0.0,\"#0d0887\"],[0.1111111111111111,\"#46039f\"],[0.2222222222222222,\"#7201a8\"],[0.3333333333333333,\"#9c179e\"],[0.4444444444444444,\"#bd3786\"],[0.5555555555555556,\"#d8576b\"],[0.6666666666666666,\"#ed7953\"],[0.7777777777777778,\"#fb9f3a\"],[0.8888888888888888,\"#fdca26\"],[1.0,\"#f0f921\"]],\"type\":\"surface\"}],\"table\":[{\"cells\":{\"fill\":{\"color\":\"#506784\"},\"line\":{\"color\":\"rgb(17,17,17)\"}},\"header\":{\"fill\":{\"color\":\"#2a3f5f\"},\"line\":{\"color\":\"rgb(17,17,17)\"}},\"type\":\"table\"}]},\"layout\":{\"annotationdefaults\":{\"arrowcolor\":\"#f2f5fa\",\"arrowhead\":0,\"arrowwidth\":1},\"autotypenumbers\":\"strict\",\"coloraxis\":{\"colorbar\":{\"outlinewidth\":0,\"ticks\":\"\"}},\"colorscale\":{\"diverging\":[[0,\"#8e0152\"],[0.1,\"#c51b7d\"],[0.2,\"#de77ae\"],[0.3,\"#f1b6da\"],[0.4,\"#fde0ef\"],[0.5,\"#f7f7f7\"],[0.6,\"#e6f5d0\"],[0.7,\"#b8e186\"],[0.8,\"#7fbc41\"],[0.9,\"#4d9221\"],[1,\"#276419\"]],\"sequential\":[[0.0,\"#0d0887\"],[0.1111111111111111,\"#46039f\"],[0.2222222222222222,\"#7201a8\"],[0.3333333333333333,\"#9c179e\"],[0.4444444444444444,\"#bd3786\"],[0.5555555555555556,\"#d8576b\"],[0.6666666666666666,\"#ed7953\"],[0.7777777777777778,\"#fb9f3a\"],[0.8888888888888888,\"#fdca26\"],[1.0,\"#f0f921\"]],\"sequentialminus\":[[0.0,\"#0d0887\"],[0.1111111111111111,\"#46039f\"],[0.2222222222222222,\"#7201a8\"],[0.3333333333333333,\"#9c179e\"],[0.4444444444444444,\"#bd3786\"],[0.5555555555555556,\"#d8576b\"],[0.6666666666666666,\"#ed7953\"],[0.7777777777777778,\"#fb9f3a\"],[0.8888888888888888,\"#fdca26\"],[1.0,\"#f0f921\"]]},\"colorway\":[\"#636efa\",\"#EF553B\",\"#00cc96\",\"#ab63fa\",\"#FFA15A\",\"#19d3f3\",\"#FF6692\",\"#B6E880\",\"#FF97FF\",\"#FECB52\"],\"font\":{\"color\":\"#f2f5fa\"},\"geo\":{\"bgcolor\":\"rgb(17,17,17)\",\"lakecolor\":\"rgb(17,17,17)\",\"landcolor\":\"rgb(17,17,17)\",\"showlakes\":true,\"showland\":true,\"subunitcolor\":\"#506784\"},\"hoverlabel\":{\"align\":\"left\"},\"hovermode\":\"closest\",\"mapbox\":{\"style\":\"dark\"},\"paper_bgcolor\":\"rgb(17,17,17)\",\"plot_bgcolor\":\"rgb(17,17,17)\",\"polar\":{\"angularaxis\":{\"gridcolor\":\"#506784\",\"linecolor\":\"#506784\",\"ticks\":\"\"},\"bgcolor\":\"rgb(17,17,17)\",\"radialaxis\":{\"gridcolor\":\"#506784\",\"linecolor\":\"#506784\",\"ticks\":\"\"}},\"scene\":{\"xaxis\":{\"backgroundcolor\":\"rgb(17,17,17)\",\"gridcolor\":\"#506784\",\"gridwidth\":2,\"linecolor\":\"#506784\",\"showbackground\":true,\"ticks\":\"\",\"zerolinecolor\":\"#C8D4E3\"},\"yaxis\":{\"backgroundcolor\":\"rgb(17,17,17)\",\"gridcolor\":\"#506784\",\"gridwidth\":2,\"linecolor\":\"#506784\",\"showbackground\":true,\"ticks\":\"\",\"zerolinecolor\":\"#C8D4E3\"},\"zaxis\":{\"backgroundcolor\":\"rgb(17,17,17)\",\"gridcolor\":\"#506784\",\"gridwidth\":2,\"linecolor\":\"#506784\",\"showbackground\":true,\"ticks\":\"\",\"zerolinecolor\":\"#C8D4E3\"}},\"shapedefaults\":{\"line\":{\"color\":\"#f2f5fa\"}},\"sliderdefaults\":{\"bgcolor\":\"#C8D4E3\",\"bordercolor\":\"rgb(17,17,17)\",\"borderwidth\":1,\"tickwidth\":0},\"ternary\":{\"aaxis\":{\"gridcolor\":\"#506784\",\"linecolor\":\"#506784\",\"ticks\":\"\"},\"baxis\":{\"gridcolor\":\"#506784\",\"linecolor\":\"#506784\",\"ticks\":\"\"},\"bgcolor\":\"rgb(17,17,17)\",\"caxis\":{\"gridcolor\":\"#506784\",\"linecolor\":\"#506784\",\"ticks\":\"\"}},\"title\":{\"x\":0.05},\"updatemenudefaults\":{\"bgcolor\":\"#506784\",\"borderwidth\":0},\"xaxis\":{\"automargin\":true,\"gridcolor\":\"#283442\",\"linecolor\":\"#506784\",\"ticks\":\"\",\"title\":{\"standoff\":15},\"zerolinecolor\":\"#283442\",\"zerolinewidth\":2},\"yaxis\":{\"automargin\":true,\"gridcolor\":\"#283442\",\"linecolor\":\"#506784\",\"ticks\":\"\",\"title\":{\"standoff\":15},\"zerolinecolor\":\"#283442\",\"zerolinewidth\":2}}},\"geo\":{\"domain\":{\"x\":[0.0,1.0],\"y\":[0.0,1.0]},\"center\":{},\"scope\":\"world\"},\"coloraxis\":{\"colorbar\":{\"title\":{\"text\":\"Total Cases\"}},\"colorscale\":[[0.0,\"rgb(0,0,0)\"],[0.3333333333333333,\"rgb(230,0,0)\"],[0.6666666666666666,\"rgb(255,210,0)\"],[1.0,\"rgb(255,255,255)\"]]},\"legend\":{\"tracegroupgap\":0,\"itemsizing\":\"constant\"},\"title\":{\"text\":\"Covid-19 Cases Around the Globe\"}},                        {\"responsive\": true}                    ).then(function(){\n",
       "                            \n",
       "var gd = document.getElementById('8cd19120-d36e-4e71-8b44-c9deac38e2f8');\n",
       "var x = new MutationObserver(function (mutations, observer) {{\n",
       "        var display = window.getComputedStyle(gd).display;\n",
       "        if (!display || display === 'none') {{\n",
       "            console.log([gd, 'removed!']);\n",
       "            Plotly.purge(gd);\n",
       "            observer.disconnect();\n",
       "        }}\n",
       "}});\n",
       "\n",
       "// Listen for the removal of the full notebook cells\n",
       "var notebookContainer = gd.closest('#notebook-container');\n",
       "if (notebookContainer) {{\n",
       "    x.observe(notebookContainer, {childList: true});\n",
       "}}\n",
       "\n",
       "// Listen for the clearing of the current output cell\n",
       "var outputEl = gd.closest('.output');\n",
       "if (outputEl) {{\n",
       "    x.observe(outputEl, {childList: true});\n",
       "}}\n",
       "\n",
       "                        })                };                });            </script>        </div>"
      ]
     },
     "metadata": {},
     "output_type": "display_data"
    }
   ],
   "source": [
    "fig = px.scatter_geo(df, locations='Country',locationmode=\"country names\",scope=\"world\",\n",
    "                     color=\"Total Cases\",size=\"Total Cases\",size_max=20,title=\"Covid-19 Cases Around the Globe\",\n",
    "                     template='plotly_dark',color_continuous_scale=\"hot\") \n",
    "#locationmode adalah variabel variabel yang ada pada fitur locations\n",
    "#size_max untuk besar ukuran lingkaran \n",
    "#scope untuk peta\n",
    "fig.show()"
   ]
  },
  {
   "cell_type": "code",
   "execution_count": 110,
   "id": "3fc36b43-3340-4e53-bb79-c13b36e836b2",
   "metadata": {},
   "outputs": [
    {
     "data": {
      "text/html": [
       "<div>\n",
       "<style scoped>\n",
       "    .dataframe tbody tr th:only-of-type {\n",
       "        vertical-align: middle;\n",
       "    }\n",
       "\n",
       "    .dataframe tbody tr th {\n",
       "        vertical-align: top;\n",
       "    }\n",
       "\n",
       "    .dataframe thead th {\n",
       "        text-align: right;\n",
       "    }\n",
       "</style>\n",
       "<table border=\"1\" class=\"dataframe\">\n",
       "  <thead>\n",
       "    <tr style=\"text-align: right;\">\n",
       "      <th></th>\n",
       "      <th>Serial Number</th>\n",
       "      <th>Country</th>\n",
       "      <th>Total Cases</th>\n",
       "      <th>Total Deaths</th>\n",
       "      <th>Total Recovered</th>\n",
       "      <th>Active Cases</th>\n",
       "      <th>Total Test</th>\n",
       "      <th>Population</th>\n",
       "      <th>Percentage of Death Case</th>\n",
       "    </tr>\n",
       "  </thead>\n",
       "  <tbody>\n",
       "    <tr>\n",
       "      <th>0</th>\n",
       "      <td>1</td>\n",
       "      <td>USA</td>\n",
       "      <td>104196861</td>\n",
       "      <td>1132935</td>\n",
       "      <td>101322779</td>\n",
       "      <td>1741147</td>\n",
       "      <td>1741147</td>\n",
       "      <td>334805269</td>\n",
       "      <td>0.011</td>\n",
       "    </tr>\n",
       "    <tr>\n",
       "      <th>1</th>\n",
       "      <td>2</td>\n",
       "      <td>India</td>\n",
       "      <td>44682784</td>\n",
       "      <td>530740</td>\n",
       "      <td>44150289</td>\n",
       "      <td>1755</td>\n",
       "      <td>1755</td>\n",
       "      <td>1406631776</td>\n",
       "      <td>0.012</td>\n",
       "    </tr>\n",
       "    <tr>\n",
       "      <th>2</th>\n",
       "      <td>3</td>\n",
       "      <td>France</td>\n",
       "      <td>39524311</td>\n",
       "      <td>164233</td>\n",
       "      <td>39264546</td>\n",
       "      <td>95532</td>\n",
       "      <td>95532</td>\n",
       "      <td>65584518</td>\n",
       "      <td>0.004</td>\n",
       "    </tr>\n",
       "    <tr>\n",
       "      <th>3</th>\n",
       "      <td>4</td>\n",
       "      <td>Germany</td>\n",
       "      <td>37779833</td>\n",
       "      <td>165711</td>\n",
       "      <td>37398100</td>\n",
       "      <td>216022</td>\n",
       "      <td>216022</td>\n",
       "      <td>83883596</td>\n",
       "      <td>0.004</td>\n",
       "    </tr>\n",
       "    <tr>\n",
       "      <th>4</th>\n",
       "      <td>5</td>\n",
       "      <td>Brazil</td>\n",
       "      <td>36824580</td>\n",
       "      <td>697074</td>\n",
       "      <td>35919372</td>\n",
       "      <td>208134</td>\n",
       "      <td>208134</td>\n",
       "      <td>215353593</td>\n",
       "      <td>0.019</td>\n",
       "    </tr>\n",
       "    <tr>\n",
       "      <th>5</th>\n",
       "      <td>6</td>\n",
       "      <td>Japan</td>\n",
       "      <td>32588442</td>\n",
       "      <td>68399</td>\n",
       "      <td>21567425</td>\n",
       "      <td>10952618</td>\n",
       "      <td>10952618</td>\n",
       "      <td>125584838</td>\n",
       "      <td>0.002</td>\n",
       "    </tr>\n",
       "    <tr>\n",
       "      <th>6</th>\n",
       "      <td>7</td>\n",
       "      <td>S. Korea</td>\n",
       "      <td>30197066</td>\n",
       "      <td>33486</td>\n",
       "      <td>29740877</td>\n",
       "      <td>422703</td>\n",
       "      <td>422703</td>\n",
       "      <td>51329899</td>\n",
       "      <td>0.001</td>\n",
       "    </tr>\n",
       "    <tr>\n",
       "      <th>7</th>\n",
       "      <td>8</td>\n",
       "      <td>Italy</td>\n",
       "      <td>25453789</td>\n",
       "      <td>186833</td>\n",
       "      <td>25014986</td>\n",
       "      <td>251970</td>\n",
       "      <td>251970</td>\n",
       "      <td>60262770</td>\n",
       "      <td>0.007</td>\n",
       "    </tr>\n",
       "    <tr>\n",
       "      <th>8</th>\n",
       "      <td>9</td>\n",
       "      <td>UK</td>\n",
       "      <td>24274361</td>\n",
       "      <td>204171</td>\n",
       "      <td>24020088</td>\n",
       "      <td>50102</td>\n",
       "      <td>50102</td>\n",
       "      <td>68497907</td>\n",
       "      <td>0.008</td>\n",
       "    </tr>\n",
       "    <tr>\n",
       "      <th>9</th>\n",
       "      <td>10</td>\n",
       "      <td>Russia</td>\n",
       "      <td>21958696</td>\n",
       "      <td>395108</td>\n",
       "      <td>21356008</td>\n",
       "      <td>207580</td>\n",
       "      <td>207580</td>\n",
       "      <td>145805947</td>\n",
       "      <td>0.018</td>\n",
       "    </tr>\n",
       "  </tbody>\n",
       "</table>\n",
       "</div>"
      ],
      "text/plain": [
       "   Serial Number   Country  Total Cases  Total Deaths  Total Recovered  \\\n",
       "0              1       USA    104196861       1132935        101322779   \n",
       "1              2     India     44682784        530740         44150289   \n",
       "2              3    France     39524311        164233         39264546   \n",
       "3              4   Germany     37779833        165711         37398100   \n",
       "4              5    Brazil     36824580        697074         35919372   \n",
       "5              6     Japan     32588442         68399         21567425   \n",
       "6              7  S. Korea     30197066         33486         29740877   \n",
       "7              8     Italy     25453789        186833         25014986   \n",
       "8              9        UK     24274361        204171         24020088   \n",
       "9             10    Russia     21958696        395108         21356008   \n",
       "\n",
       "   Active Cases  Total Test  Population  Percentage of Death Case  \n",
       "0       1741147     1741147   334805269                     0.011  \n",
       "1          1755        1755  1406631776                     0.012  \n",
       "2         95532       95532    65584518                     0.004  \n",
       "3        216022      216022    83883596                     0.004  \n",
       "4        208134      208134   215353593                     0.019  \n",
       "5      10952618    10952618   125584838                     0.002  \n",
       "6        422703      422703    51329899                     0.001  \n",
       "7        251970      251970    60262770                     0.007  \n",
       "8         50102       50102    68497907                     0.008  \n",
       "9        207580      207580   145805947                     0.018  "
      ]
     },
     "execution_count": 110,
     "metadata": {},
     "output_type": "execute_result"
    }
   ],
   "source": [
    "High_Cases = df.sort_values('Total Cases', ascending=False)\n",
    "df1= High_Cases[:10] #mengambil 10 urutan pertama\n",
    "df1"
   ]
  },
  {
   "cell_type": "code",
   "execution_count": 111,
   "id": "034198fd-c1a1-45b2-98c4-002b6284a7b7",
   "metadata": {},
   "outputs": [
    {
     "data": {
      "image/png": "[encoded data removed]",
      "text/plain": [
       "<Figure size 936x432 with 1 Axes>"
      ]
     },
     "metadata": {
      "needs_background": "light"
     },
     "output_type": "display_data"
    }
   ],
   "source": [
    "plt.figure(figsize=(13,6))\n",
    "ax= sns.barplot(x='Country', y='Total Cases', data=df1, palette='flare')\n",
    "for label in ax.containers:\n",
    "    ax.bar_label(label, label_type='edge')\n",
    "plt.title('The Highest Covid-19 Cases in The World',fontsize=24, fontweight='bold', fontname=\"serif\")\n",
    "plt.show()"
   ]
  },
  {
   "cell_type": "code",
   "execution_count": 112,
   "id": "9dd5cbd8-162d-468d-ba85-db2d80e6c34f",
   "metadata": {},
   "outputs": [],
   "source": [
    "df1['Percentage of Death Case'] = round(df1['Total Deaths']/df1['Total Cases'],3)"
   ]
  },
  {
   "cell_type": "code",
   "execution_count": 113,
   "id": "7357507c-599f-4a45-b163-3b3cc5f1dc99",
   "metadata": {},
   "outputs": [
    {
     "data": {
      "text/html": [
       "<div>\n",
       "<style scoped>\n",
       "    .dataframe tbody tr th:only-of-type {\n",
       "        vertical-align: middle;\n",
       "    }\n",
       "\n",
       "    .dataframe tbody tr th {\n",
       "        vertical-align: top;\n",
       "    }\n",
       "\n",
       "    .dataframe thead th {\n",
       "        text-align: right;\n",
       "    }\n",
       "</style>\n",
       "<table border=\"1\" class=\"dataframe\">\n",
       "  <thead>\n",
       "    <tr style=\"text-align: right;\">\n",
       "      <th></th>\n",
       "      <th>Serial Number</th>\n",
       "      <th>Country</th>\n",
       "      <th>Total Cases</th>\n",
       "      <th>Total Deaths</th>\n",
       "      <th>Total Recovered</th>\n",
       "      <th>Active Cases</th>\n",
       "      <th>Total Test</th>\n",
       "      <th>Population</th>\n",
       "      <th>Percentage of Death Case</th>\n",
       "    </tr>\n",
       "  </thead>\n",
       "  <tbody>\n",
       "    <tr>\n",
       "      <th>4</th>\n",
       "      <td>5</td>\n",
       "      <td>Brazil</td>\n",
       "      <td>36824580</td>\n",
       "      <td>697074</td>\n",
       "      <td>35919372</td>\n",
       "      <td>208134</td>\n",
       "      <td>208134</td>\n",
       "      <td>215353593</td>\n",
       "      <td>0.019</td>\n",
       "    </tr>\n",
       "    <tr>\n",
       "      <th>9</th>\n",
       "      <td>10</td>\n",
       "      <td>Russia</td>\n",
       "      <td>21958696</td>\n",
       "      <td>395108</td>\n",
       "      <td>21356008</td>\n",
       "      <td>207580</td>\n",
       "      <td>207580</td>\n",
       "      <td>145805947</td>\n",
       "      <td>0.018</td>\n",
       "    </tr>\n",
       "    <tr>\n",
       "      <th>1</th>\n",
       "      <td>2</td>\n",
       "      <td>India</td>\n",
       "      <td>44682784</td>\n",
       "      <td>530740</td>\n",
       "      <td>44150289</td>\n",
       "      <td>1755</td>\n",
       "      <td>1755</td>\n",
       "      <td>1406631776</td>\n",
       "      <td>0.012</td>\n",
       "    </tr>\n",
       "    <tr>\n",
       "      <th>0</th>\n",
       "      <td>1</td>\n",
       "      <td>USA</td>\n",
       "      <td>104196861</td>\n",
       "      <td>1132935</td>\n",
       "      <td>101322779</td>\n",
       "      <td>1741147</td>\n",
       "      <td>1741147</td>\n",
       "      <td>334805269</td>\n",
       "      <td>0.011</td>\n",
       "    </tr>\n",
       "    <tr>\n",
       "      <th>8</th>\n",
       "      <td>9</td>\n",
       "      <td>UK</td>\n",
       "      <td>24274361</td>\n",
       "      <td>204171</td>\n",
       "      <td>24020088</td>\n",
       "      <td>50102</td>\n",
       "      <td>50102</td>\n",
       "      <td>68497907</td>\n",
       "      <td>0.008</td>\n",
       "    </tr>\n",
       "    <tr>\n",
       "      <th>7</th>\n",
       "      <td>8</td>\n",
       "      <td>Italy</td>\n",
       "      <td>25453789</td>\n",
       "      <td>186833</td>\n",
       "      <td>25014986</td>\n",
       "      <td>251970</td>\n",
       "      <td>251970</td>\n",
       "      <td>60262770</td>\n",
       "      <td>0.007</td>\n",
       "    </tr>\n",
       "    <tr>\n",
       "      <th>2</th>\n",
       "      <td>3</td>\n",
       "      <td>France</td>\n",
       "      <td>39524311</td>\n",
       "      <td>164233</td>\n",
       "      <td>39264546</td>\n",
       "      <td>95532</td>\n",
       "      <td>95532</td>\n",
       "      <td>65584518</td>\n",
       "      <td>0.004</td>\n",
       "    </tr>\n",
       "    <tr>\n",
       "      <th>3</th>\n",
       "      <td>4</td>\n",
       "      <td>Germany</td>\n",
       "      <td>37779833</td>\n",
       "      <td>165711</td>\n",
       "      <td>37398100</td>\n",
       "      <td>216022</td>\n",
       "      <td>216022</td>\n",
       "      <td>83883596</td>\n",
       "      <td>0.004</td>\n",
       "    </tr>\n",
       "    <tr>\n",
       "      <th>5</th>\n",
       "      <td>6</td>\n",
       "      <td>Japan</td>\n",
       "      <td>32588442</td>\n",
       "      <td>68399</td>\n",
       "      <td>21567425</td>\n",
       "      <td>10952618</td>\n",
       "      <td>10952618</td>\n",
       "      <td>125584838</td>\n",
       "      <td>0.002</td>\n",
       "    </tr>\n",
       "    <tr>\n",
       "      <th>6</th>\n",
       "      <td>7</td>\n",
       "      <td>S. Korea</td>\n",
       "      <td>30197066</td>\n",
       "      <td>33486</td>\n",
       "      <td>29740877</td>\n",
       "      <td>422703</td>\n",
       "      <td>422703</td>\n",
       "      <td>51329899</td>\n",
       "      <td>0.001</td>\n",
       "    </tr>\n",
       "  </tbody>\n",
       "</table>\n",
       "</div>"
      ],
      "text/plain": [
       "   Serial Number   Country  Total Cases  Total Deaths  Total Recovered  \\\n",
       "4              5    Brazil     36824580        697074         35919372   \n",
       "9             10    Russia     21958696        395108         21356008   \n",
       "1              2     India     44682784        530740         44150289   \n",
       "0              1       USA    104196861       1132935        101322779   \n",
       "8              9        UK     24274361        204171         24020088   \n",
       "7              8     Italy     25453789        186833         25014986   \n",
       "2              3    France     39524311        164233         39264546   \n",
       "3              4   Germany     37779833        165711         37398100   \n",
       "5              6     Japan     32588442         68399         21567425   \n",
       "6              7  S. Korea     30197066         33486         29740877   \n",
       "\n",
       "   Active Cases  Total Test  Population  Percentage of Death Case  \n",
       "4        208134      208134   215353593                     0.019  \n",
       "9        207580      207580   145805947                     0.018  \n",
       "1          1755        1755  1406631776                     0.012  \n",
       "0       1741147     1741147   334805269                     0.011  \n",
       "8         50102       50102    68497907                     0.008  \n",
       "7        251970      251970    60262770                     0.007  \n",
       "2         95532       95532    65584518                     0.004  \n",
       "3        216022      216022    83883596                     0.004  \n",
       "5      10952618    10952618   125584838                     0.002  \n",
       "6        422703      422703    51329899                     0.001  "
      ]
     },
     "execution_count": 113,
     "metadata": {},
     "output_type": "execute_result"
    }
   ],
   "source": [
    "High_Cases = df1.sort_values('Percentage of Death Case', ascending=False)\n",
    "High_Cases[:10] #mengambil 10 urutan pertama"
   ]
  },
  {
   "cell_type": "code",
   "execution_count": 114,
   "id": "0ac91d1d-16ec-4115-bfd7-ccfe7fcd61df",
   "metadata": {},
   "outputs": [
    {
     "data": {
      "image/png": "[encoded data removed]",
      "text/plain": [
       "<Figure size 936x432 with 1 Axes>"
      ]
     },
     "metadata": {
      "needs_background": "light"
     },
     "output_type": "display_data"
    }
   ],
   "source": [
    "plt.figure(figsize=(13,6))\n",
    "ax= sns.barplot(x='Country', y='Percentage of Death Case', data=High_Cases[:10], palette='flare')\n",
    "for label in ax.containers:\n",
    "    ax.bar_label(label, label_type='center', fontweight='bold')\n",
    "plt.title('Percentage of Covid-19 Death Cases in The World',fontsize=24, fontweight='bold', fontname=\"serif\")\n",
    "plt.show()"
   ]
  },
  {
   "cell_type": "code",
   "execution_count": null,
   "id": "2af09fe1-ee6b-4132-8f1e-1f22c84f91ed",
   "metadata": {},
   "outputs": [],
   "source": []
  }
 ],
 "metadata": {
  "kernelspec": {
   "display_name": "Python 3 (ipykernel)",
   "language": "python",
   "name": "python3"
  },
  "language_info": {
   "codemirror_mode": {
    "name": "ipython",
    "version": 3
   },
   "file_extension": ".py",
   "mimetype": "text/x-python",
   "name": "python",
   "nbconvert_exporter": "python",
   "pygments_lexer": "ipython3",
   "version": "3.9.12"
  }
 },
 "nbformat": 4,
 "nbformat_minor": 5
}
